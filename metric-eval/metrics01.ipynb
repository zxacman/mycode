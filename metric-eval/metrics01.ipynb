{
 "cells": [
  {
   "cell_type": "code",
   "execution_count": 1,
   "id": "d6ec07cb-89b6-4f22-958b-3d4ff7789b05",
   "metadata": {},
   "outputs": [
    {
     "data": {
      "text/plain": [
       "0.74"
      ]
     },
     "execution_count": 1,
     "metadata": {},
     "output_type": "execute_result"
    }
   ],
   "source": [
    "# describe all parts of the confusion matrix\n",
    "tp = 42\n",
    "tn = 32\n",
    "fp = 8\n",
    "fn = 18\n",
    "\n",
    "# calculate accuracy\n",
    "accuracy = (tp + tn)/(tp + tn + fp + fn)\n",
    "accuracy \n"
   ]
  },
  {
   "cell_type": "code",
   "execution_count": 2,
   "id": "d7ec9690-77eb-4a10-9693-5a076e1b97e4",
   "metadata": {},
   "outputs": [
    {
     "data": {
      "text/plain": [
       "0.5"
      ]
     },
     "execution_count": 2,
     "metadata": {},
     "output_type": "execute_result"
    }
   ],
   "source": [
    "# describe all parts of the confusion matrix\n",
    "# assume we have an algorithm that can only guess a single classifier\n",
    "tp = 0\n",
    "tn = 50\n",
    "fp = 50\n",
    "fn = 0\n",
    "\n",
    "# calculate accuracy\n",
    "accuracy = (tp + tn)/(tp + tn + fp + fn)\n",
    "accuracy \n"
   ]
  },
  {
   "cell_type": "code",
   "execution_count": 3,
   "id": "d5f0fc52-20b7-4d8c-8591-c9df891d80ea",
   "metadata": {},
   "outputs": [
    {
     "name": "stdout",
     "output_type": "stream",
     "text": [
      "0.95\n"
     ]
    }
   ],
   "source": [
    "# calculate an accuracy of 95%\n",
    "tp = 4\n",
    "tn = 91\n",
    "fp = 1\n",
    "fn = 4\n",
    "\n",
    "accuracy = (tp + tn)/(tp + tn + fp + fn)\n",
    "print(accuracy)   # calculates as 95%\n"
   ]
  },
  {
   "cell_type": "code",
   "execution_count": 4,
   "id": "55bf5f30-29d7-42c9-ac49-e7d2b16bf065",
   "metadata": {},
   "outputs": [
    {
     "name": "stdout",
     "output_type": "stream",
     "text": [
      "0.9900990099009901\n"
     ]
    }
   ],
   "source": [
    "# calculate an accuracy of 95%\n",
    "# however we only guessed a single classifer\n",
    "tp = 0\n",
    "tn = 95\n",
    "tp = 5\n",
    "fn = 0\n",
    "accuracy = (tp + tn)/(tp + tn + fp + fn)\n",
    "print(accuracy)\n"
   ]
  },
  {
   "cell_type": "code",
   "execution_count": 5,
   "id": "a71b20d5-d521-411f-85ad-808c141d9ca0",
   "metadata": {},
   "outputs": [
    {
     "name": "stdout",
     "output_type": "stream",
     "text": [
      "precision: 0.89\n"
     ]
    }
   ],
   "source": [
    "tp = 114\n",
    "fp = 14\n",
    "# fn (0) and tn (12) are not needed in the formula\n",
    "precision = tp / (tp + fp)\n",
    "print(f\"precision: {precision:4.2f}\")\n"
   ]
  },
  {
   "cell_type": "code",
   "execution_count": null,
   "id": "1d2ec99c-25c0-4ac0-be8f-16af8e4f1d6a",
   "metadata": {},
   "outputs": [],
   "source": []
  }
 ],
 "metadata": {
  "kernelspec": {
   "display_name": "Python 3 (ipykernel)",
   "language": "python",
   "name": "python3"
  },
  "language_info": {
   "codemirror_mode": {
    "name": "ipython",
    "version": 3
   },
   "file_extension": ".py",
   "mimetype": "text/x-python",
   "name": "python",
   "nbconvert_exporter": "python",
   "pygments_lexer": "ipython3",
   "version": "3.10.6"
  }
 },
 "nbformat": 4,
 "nbformat_minor": 5
}
