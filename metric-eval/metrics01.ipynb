{
 "cells": [
  {
   "cell_type": "code",
   "execution_count": 1,
   "id": "d6ec07cb-89b6-4f22-958b-3d4ff7789b05",
   "metadata": {},
   "outputs": [
    {
     "data": {
      "text/plain": [
       "0.74"
      ]
     },
     "execution_count": 1,
     "metadata": {},
     "output_type": "execute_result"
    }
   ],
   "source": [
    "# describe all parts of the confusion matrix\n",
    "tp = 42\n",
    "tn = 32\n",
    "fp = 8\n",
    "fn = 18\n",
    "\n",
    "# calculate accuracy\n",
    "accuracy = (tp + tn)/(tp + tn + fp + fn)\n",
    "accuracy \n"
   ]
  },
  {
   "cell_type": "code",
   "execution_count": 2,
   "id": "d7ec9690-77eb-4a10-9693-5a076e1b97e4",
   "metadata": {},
   "outputs": [
    {
     "data": {
      "text/plain": [
       "0.5"
      ]
     },
     "execution_count": 2,
     "metadata": {},
     "output_type": "execute_result"
    }
   ],
   "source": [
    "# describe all parts of the confusion matrix\n",
    "# assume we have an algorithm that can only guess a single classifier\n",
    "tp = 0\n",
    "tn = 50\n",
    "fp = 50\n",
    "fn = 0\n",
    "\n",
    "# calculate accuracy\n",
    "accuracy = (tp + tn)/(tp + tn + fp + fn)\n",
    "accuracy \n"
   ]
  },
  {
   "cell_type": "code",
   "execution_count": 3,
   "id": "d5f0fc52-20b7-4d8c-8591-c9df891d80ea",
   "metadata": {},
   "outputs": [
    {
     "name": "stdout",
     "output_type": "stream",
     "text": [
      "0.95\n"
     ]
    }
   ],
   "source": [
    "# calculate an accuracy of 95%\n",
    "tp = 4\n",
    "tn = 91\n",
    "fp = 1\n",
    "fn = 4\n",
    "\n",
    "accuracy = (tp + tn)/(tp + tn + fp + fn)\n",
    "print(accuracy)   # calculates as 95%\n"
   ]
  },
  {
   "cell_type": "code",
   "execution_count": 4,
   "id": "55bf5f30-29d7-42c9-ac49-e7d2b16bf065",
   "metadata": {},
   "outputs": [
    {
     "name": "stdout",
     "output_type": "stream",
     "text": [
      "0.9900990099009901\n"
     ]
    }
   ],
   "source": [
    "# calculate an accuracy of 95%\n",
    "# however we only guessed a single classifer\n",
    "tp = 0\n",
    "tn = 95\n",
    "tp = 5\n",
    "fn = 0\n",
    "accuracy = (tp + tn)/(tp + tn + fp + fn)\n",
    "print(accuracy)\n"
   ]
  },
  {
   "cell_type": "code",
   "execution_count": 5,
   "id": "a71b20d5-d521-411f-85ad-808c141d9ca0",
   "metadata": {},
   "outputs": [
    {
     "name": "stdout",
     "output_type": "stream",
     "text": [
      "precision: 0.89\n"
     ]
    }
   ],
   "source": [
    "tp = 114\n",
    "fp = 14\n",
    "# fn (0) and tn (12) are not needed in the formula\n",
    "precision = tp / (tp + fp)\n",
    "print(f\"precision: {precision:4.2f}\")\n"
   ]
  },
  {
   "cell_type": "code",
   "execution_count": 6,
   "id": "1d2ec99c-25c0-4ac0-be8f-16af8e4f1d6a",
   "metadata": {},
   "outputs": [
    {
     "name": "stdout",
     "output_type": "stream",
     "text": [
      "recall: 1.00\n"
     ]
    }
   ],
   "source": [
    "# calculating recall\n",
    "tp = 114\n",
    "fn = 0\n",
    "# ft (14) and tn (12) are not needed in the formula\n",
    "recall = tp / (tp + fn)\n",
    "print(f\"recall: {recall:4.2f}\")\n"
   ]
  },
  {
   "cell_type": "code",
   "execution_count": 7,
   "id": "050eaf1e-b98f-4255-9432-699324fdbdf4",
   "metadata": {},
   "outputs": [
    {
     "name": "stdout",
     "output_type": "stream",
     "text": [
      "  fn    fp   tp     pre   acc   rec   f1\n",
      "  0.00  0.00 93.00  1.00  1.00  1.00  1.00\n",
      "  1.00  0.00 92.00  1.00  0.99  0.99  0.99\n",
      "  1.00  1.00 91.00  0.99  0.99  0.99  0.99\n",
      "  2.00  0.00 91.00  1.00  0.99  0.98  0.99\n",
      "  2.00  1.00 90.00  0.99  0.98  0.98  0.98\n",
      "  2.00  2.00 89.00  0.98  0.98  0.98  0.98\n",
      "  3.00  0.00 90.00  1.00  0.98  0.97  0.98\n",
      "  3.00  1.00 89.00  0.99  0.98  0.97  0.98\n",
      "  3.00  2.00 88.00  0.98  0.97  0.97  0.97\n",
      "  3.00  3.00 87.00  0.97  0.97  0.97  0.97\n",
      "  4.00  0.00 89.00  1.00  0.98  0.96  0.98\n",
      "  4.00  1.00 88.00  0.99  0.97  0.96  0.97\n",
      "  4.00  2.00 87.00  0.98  0.97  0.96  0.97\n",
      "  4.00  3.00 86.00  0.97  0.96  0.96  0.96\n",
      "  4.00  4.00 85.00  0.96  0.96  0.96  0.96\n",
      "  5.00  0.00 88.00  1.00  0.97  0.95  0.97\n",
      "  5.00  1.00 87.00  0.99  0.97  0.95  0.97\n",
      "  5.00  2.00 86.00  0.98  0.96  0.95  0.96\n",
      "  5.00  3.00 85.00  0.97  0.96  0.94  0.96\n",
      "  5.00  4.00 84.00  0.95  0.95  0.94  0.95\n",
      "  5.00  5.00 83.00  0.94  0.95  0.94  0.94\n",
      "  6.00  0.00 87.00  1.00  0.97  0.94  0.97\n",
      "  6.00  1.00 86.00  0.99  0.96  0.93  0.96\n",
      "  6.00  2.00 85.00  0.98  0.96  0.93  0.96\n",
      "  6.00  3.00 84.00  0.97  0.95  0.93  0.95\n",
      "  6.00  4.00 83.00  0.95  0.95  0.93  0.94\n",
      "  6.00  5.00 82.00  0.94  0.94  0.93  0.94\n",
      "  6.00  6.00 81.00  0.93  0.94  0.93  0.93\n"
     ]
    }
   ],
   "source": [
    "TF = 7 # we set the True false values to 5 %\n",
    "print(\"  fn    fp   tp     pre   acc   rec   f1\")\n",
    "for fn in range(0, 7):\n",
    "    for fp in range(0, fn+1):\n",
    "        # the sum of fn, fp, TF and tp will be 100:\n",
    "        tp = 100 - fn - fp - TF\n",
    "        #print(fn, fp, tp, fn+fp+tp+TF)\n",
    "        precision = tp / (tp + fp)\n",
    "        accuracy = (tp + tn)/(tp + tn + fp + fn)\n",
    "        recall = tp / (tp + fn)\n",
    "        f1_score = 2 * precision * recall / (precision + recall)\n",
    "        print(f\"{fn:6.2f}{fp:6.2f}{tp:6.2f}\", end=\"\")\n",
    "        print(f\"{precision:6.2f}{accuracy:6.2f}{recall:6.2f}{f1_score:6.2f}\")\n"
   ]
  },
  {
   "cell_type": "code",
   "execution_count": null,
   "id": "85d604c3-f024-4636-bcdc-6d547a49f82f",
   "metadata": {},
   "outputs": [],
   "source": []
  }
 ],
 "metadata": {
  "kernelspec": {
   "display_name": "Python 3 (ipykernel)",
   "language": "python",
   "name": "python3"
  },
  "language_info": {
   "codemirror_mode": {
    "name": "ipython",
    "version": 3
   },
   "file_extension": ".py",
   "mimetype": "text/x-python",
   "name": "python",
   "nbconvert_exporter": "python",
   "pygments_lexer": "ipython3",
   "version": "3.10.6"
  }
 },
 "nbformat": 4,
 "nbformat_minor": 5
}
