{
 "cells": [
  {
   "cell_type": "code",
   "execution_count": 1,
   "id": "b6273517-231a-43ce-9243-b2f25297b726",
   "metadata": {},
   "outputs": [
    {
     "data": {
      "text/plain": [
       "array([5.2, 5.4, 5.6, 5.8, 6. , 6.2, 6.4, 6.6, 6.8])"
      ]
     },
     "execution_count": 1,
     "metadata": {},
     "output_type": "execute_result"
    }
   ],
   "source": [
    "from scipy.interpolate import interp1d\n",
    "import numpy as np\n",
    "\n",
    "# https://numpy.org/doc/stable/reference/generated/numpy.arange.html\n",
    "# generate evenly spaced numbers from 0 to but not including 10\n",
    "xs = np.arange(10)\n",
    "\n",
    "# make a corresponding set of y points\n",
    "ys = 2*xs + 1\n",
    "\n",
    "# pass an x and corresponding y points\n",
    "# this returns a function that when given new x's will create new y's\n",
    "interp_func = interp1d(xs, ys)\n",
    "\n",
    "# generates 9 values 2.1 to 2.9 with a 0.1 step\n",
    "# these are passed to interp_func\n",
    "# this will return y values that correlate to these new x values that were just provided \n",
    "newarr = interp_func(np.arange(2.1, 3, 0.1))\n",
    "\n",
    "newarr   \n"
   ]
  },
  {
   "cell_type": "code",
   "execution_count": null,
   "id": "286c46f9-b3be-4543-a4ac-16ee713e8b22",
   "metadata": {},
   "outputs": [],
   "source": []
  }
 ],
 "metadata": {
  "kernelspec": {
   "display_name": "Python 3 (ipykernel)",
   "language": "python",
   "name": "python3"
  },
  "language_info": {
   "codemirror_mode": {
    "name": "ipython",
    "version": 3
   },
   "file_extension": ".py",
   "mimetype": "text/x-python",
   "name": "python",
   "nbconvert_exporter": "python",
   "pygments_lexer": "ipython3",
   "version": "3.10.6"
  }
 },
 "nbformat": 4,
 "nbformat_minor": 5
}
