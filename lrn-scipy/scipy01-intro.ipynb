{
 "cells": [
  {
   "cell_type": "code",
   "execution_count": 1,
   "id": "d77ba942-9ccc-4dab-bae5-bee2597a5a64",
   "metadata": {},
   "outputs": [
    {
     "data": {
      "text/plain": [
       "'1.9.3'"
      ]
     },
     "execution_count": 1,
     "metadata": {},
     "output_type": "execute_result"
    }
   ],
   "source": [
    "import scipy\n",
    "import scipy.constants\n",
    "scipy.__version__\n"
   ]
  },
  {
   "cell_type": "code",
   "execution_count": 2,
   "id": "a8cb17f0-c5a6-41cd-9885-cbea9500469e",
   "metadata": {},
   "outputs": [
    {
     "data": {
      "text/plain": [
       "3.141592653589793"
      ]
     },
     "execution_count": 2,
     "metadata": {},
     "output_type": "execute_result"
    }
   ],
   "source": [
    "# from the constants package\n",
    "scipy.constants.pi\n"
   ]
  },
  {
   "cell_type": "code",
   "execution_count": 3,
   "id": "e023f1ca-595d-42b9-8405-a3f342b3bcd8",
   "metadata": {},
   "outputs": [
    {
     "name": "stdout",
     "output_type": "stream",
     "text": [
      "1e+24\n",
      "1e+21\n",
      "1e+18\n",
      "1000000000000000.0\n",
      "1000000000000.0\n",
      "1000000000.0\n",
      "1000000.0\n",
      "1000.0\n",
      "100.0\n",
      "10.0\n",
      "0.1\n",
      "0.01\n",
      "0.001\n",
      "1e-06\n",
      "1e-09\n",
      "1e-12\n",
      "1e-15\n",
      "1e-18\n",
      "1e-21\n"
     ]
    }
   ],
   "source": [
    "print(scipy.constants.yotta)    #1e+24\n",
    "print(scipy.constants.zetta)    #1e+21\n",
    "print(scipy.constants.exa)      #1e+18\n",
    "print(scipy.constants.peta)     #1000000000000000.0\n",
    "print(scipy.constants.tera)     #1000000000000.0\n",
    "print(scipy.constants.giga)     #1000000000.0\n",
    "print(scipy.constants.mega)     #1000000.0\n",
    "print(scipy.constants.kilo)     #1000.0\n",
    "print(scipy.constants.hecto)    #100.0\n",
    "print(scipy.constants.deka)     #10.0\n",
    "print(scipy.constants.deci)     #0.1\n",
    "print(scipy.constants.centi)    #0.01\n",
    "print(scipy.constants.milli)    #0.001\n",
    "print(scipy.constants.micro)    #1e-06\n",
    "print(scipy.constants.nano)     #1e-09\n",
    "print(scipy.constants.pico)     #1e-12\n",
    "print(scipy.constants.femto)    #1e-15\n",
    "print(scipy.constants.atto)     #1e-18\n",
    "print(scipy.constants.zepto)    #1e-21\n"
   ]
  },
  {
   "cell_type": "code",
   "execution_count": 4,
   "id": "5674a41e-85b6-4999-b52d-2eb7f78e052b",
   "metadata": {},
   "outputs": [
    {
     "name": "stdout",
     "output_type": "stream",
     "text": [
      "1024\n",
      "1048576\n",
      "1073741824\n",
      "1099511627776\n",
      "1125899906842624\n",
      "1152921504606846976\n",
      "1180591620717411303424\n",
      "1208925819614629174706176\n"
     ]
    }
   ],
   "source": [
    "print(scipy.constants.kibi)    #1024\n",
    "print(scipy.constants.mebi)    #1048576\n",
    "print(scipy.constants.gibi)    #1073741824\n",
    "print(scipy.constants.tebi)    #1099511627776\n",
    "print(scipy.constants.pebi)    #1125899906842624\n",
    "print(scipy.constants.exbi)    #1152921504606846976\n",
    "print(scipy.constants.zebi)    #1180591620717411303424\n",
    "print(scipy.constants.yobi)    #1208925819614629174706176\n"
   ]
  },
  {
   "cell_type": "code",
   "execution_count": 5,
   "id": "d6b801c8-d2b3-412b-b97d-c1098c1a059c",
   "metadata": {},
   "outputs": [
    {
     "name": "stdout",
     "output_type": "stream",
     "text": [
      "0.001\n",
      "1000.0\n",
      "6.479891e-05\n",
      "0.45359236999999997\n",
      "0.45359236999999997\n",
      "0.028349523124999998\n",
      "0.028349523124999998\n",
      "6.3502931799999995\n",
      "1016.0469088\n",
      "907.1847399999999\n",
      "0.031103476799999998\n",
      "0.37324172159999996\n",
      "0.0002\n",
      "1.6605390666e-27\n",
      "1.6605390666e-27\n",
      "1.6605390666e-27\n"
     ]
    }
   ],
   "source": [
    "print(scipy.constants.gram)        #0.001\n",
    "print(scipy.constants.metric_ton)  #1000.0\n",
    "print(scipy.constants.grain)       #6.479891e-05\n",
    "print(scipy.constants.lb)          #0.45359236999999997\n",
    "print(scipy.constants.pound)       #0.45359236999999997\n",
    "print(scipy.constants.oz)          #0.028349523124999998\n",
    "print(scipy.constants.ounce)       #0.028349523124999998\n",
    "print(scipy.constants.stone)       #6.3502931799999995\n",
    "print(scipy.constants.long_ton)    #1016.0469088\n",
    "print(scipy.constants.short_ton)   #907.1847399999999\n",
    "print(scipy.constants.troy_ounce)  #0.031103476799999998\n",
    "print(scipy.constants.troy_pound)  #0.37324172159999996\n",
    "print(scipy.constants.carat)       #0.0002\n",
    "print(scipy.constants.atomic_mass) #1.66053904e-27\n",
    "print(scipy.constants.m_u)         #1.66053904e-27\n",
    "print(scipy.constants.u)           #1.66053904e-27\n"
   ]
  },
  {
   "cell_type": "code",
   "execution_count": 6,
   "id": "c6bd9d85-4884-4a9e-be8d-a9535a87bbdf",
   "metadata": {},
   "outputs": [
    {
     "name": "stdout",
     "output_type": "stream",
     "text": [
      "0.017453292519943295\n",
      "0.0002908882086657216\n",
      "0.0002908882086657216\n",
      "4.84813681109536e-06\n",
      "4.84813681109536e-06\n"
     ]
    }
   ],
   "source": [
    "print(scipy.constants.degree)     #0.017453292519943295\n",
    "print(scipy.constants.arcmin)     #0.0002908882086657216\n",
    "print(scipy.constants.arcminute)  #0.0002908882086657216\n",
    "print(scipy.constants.arcsec)     #4.84813681109536e-06\n",
    "print(scipy.constants.arcsecond)  #4.84813681109536e-06\n"
   ]
  },
  {
   "cell_type": "code",
   "execution_count": 7,
   "id": "eafa7ed7-6352-4f8d-b19e-9ed4e965b3e1",
   "metadata": {},
   "outputs": [
    {
     "name": "stdout",
     "output_type": "stream",
     "text": [
      "60.0\n",
      "3600.0\n",
      "86400.0\n",
      "604800.0\n",
      "31536000.0\n",
      "31557600.0\n"
     ]
    }
   ],
   "source": [
    "print(scipy.constants.minute)      #60.0\n",
    "print(scipy.constants.hour)        #3600.0\n",
    "print(scipy.constants.day)         #86400.0\n",
    "print(scipy.constants.week)        #604800.0\n",
    "print(scipy.constants.year)        #31536000.0\n",
    "print(scipy.constants.Julian_year) #31557600.0\n"
   ]
  },
  {
   "cell_type": "code",
   "execution_count": 8,
   "id": "c7f913bd-8432-4343-9cdd-0b0df091d34f",
   "metadata": {},
   "outputs": [
    {
     "name": "stdout",
     "output_type": "stream",
     "text": [
      "0.0254\n",
      "0.30479999999999996\n",
      "0.9143999999999999\n",
      "1609.3439999999998\n",
      "2.5399999999999997e-05\n",
      "0.00035277777777777776\n",
      "0.00035277777777777776\n",
      "0.3048006096012192\n",
      "1609.3472186944373\n",
      "1852.0\n",
      "1e-15\n",
      "1e-10\n",
      "1e-06\n",
      "149597870700.0\n",
      "149597870700.0\n",
      "9460730472580800.0\n",
      "3.085677581491367e+16\n"
     ]
    }
   ],
   "source": [
    "print(scipy.constants.inch)              #0.0254\n",
    "print(scipy.constants.foot)              #0.30479999999999996\n",
    "print(scipy.constants.yard)              #0.9143999999999999\n",
    "print(scipy.constants.mile)              #1609.3439999999998\n",
    "print(scipy.constants.mil)               #2.5399999999999997e-05\n",
    "print(scipy.constants.pt)                #0.00035277777777777776\n",
    "print(scipy.constants.point)             #0.00035277777777777776\n",
    "print(scipy.constants.survey_foot)       #0.3048006096012192\n",
    "print(scipy.constants.survey_mile)       #1609.3472186944373\n",
    "print(scipy.constants.nautical_mile)     #1852.0\n",
    "print(scipy.constants.fermi)             #1e-15\n",
    "print(scipy.constants.angstrom)          #1e-10\n",
    "print(scipy.constants.micron)            #1e-06\n",
    "print(scipy.constants.au)                #149597870691.0\n",
    "print(scipy.constants.astronomical_unit) #149597870691.0\n",
    "print(scipy.constants.light_year)        #9460730472580800.0\n",
    "print(scipy.constants.parsec)            #3.0856775813057292e+16\n"
   ]
  },
  {
   "cell_type": "code",
   "execution_count": 9,
   "id": "49acfcbf-7d63-48dc-859e-fac5c86dfa81",
   "metadata": {},
   "outputs": [
    {
     "name": "stdout",
     "output_type": "stream",
     "text": [
      "10000.0\n",
      "4046.8564223999992\n"
     ]
    }
   ],
   "source": [
    "print(scipy.constants.hectare) #10000.0\n",
    "print(scipy.constants.acre)    #4046.8564223999992\n"
   ]
  },
  {
   "cell_type": "code",
   "execution_count": 10,
   "id": "998cfc38-e924-4477-b8cc-6ff160b464e9",
   "metadata": {},
   "outputs": [
    {
     "name": "stdout",
     "output_type": "stream",
     "text": [
      "10000.0\n",
      "4046.8564223999992\n"
     ]
    }
   ],
   "source": [
    "print(scipy.constants.hectare) #10000.0\n",
    "print(scipy.constants.acre)    #4046.8564223999992\n"
   ]
  },
  {
   "cell_type": "code",
   "execution_count": 11,
   "id": "aab99a34-854f-4aca-91ca-994f683aac64",
   "metadata": {},
   "outputs": [
    {
     "name": "stdout",
     "output_type": "stream",
     "text": [
      "0.001\n",
      "0.001\n",
      "0.0037854117839999997\n",
      "0.0037854117839999997\n",
      "0.00454609\n",
      "2.9573529562499998e-05\n",
      "2.9573529562499998e-05\n",
      "2.84130625e-05\n",
      "0.15898729492799998\n",
      "0.15898729492799998\n"
     ]
    }
   ],
   "source": [
    "print(scipy.constants.liter)            #0.001\n",
    "print(scipy.constants.litre)            #0.001\n",
    "print(scipy.constants.gallon)           #0.0037854117839999997\n",
    "print(scipy.constants.gallon_US)        #0.0037854117839999997\n",
    "print(scipy.constants.gallon_imp)       #0.00454609\n",
    "print(scipy.constants.fluid_ounce)      #2.9573529562499998e-05\n",
    "print(scipy.constants.fluid_ounce_US)   #2.9573529562499998e-05\n",
    "print(scipy.constants.fluid_ounce_imp)  #2.84130625e-05\n",
    "print(scipy.constants.barrel)           #0.15898729492799998\n",
    "print(scipy.constants.bbl)              #0.15898729492799998\n"
   ]
  },
  {
   "cell_type": "code",
   "execution_count": 12,
   "id": "a437807a-29c5-4a39-ae69-d4e9e02a0f82",
   "metadata": {},
   "outputs": [
    {
     "name": "stdout",
     "output_type": "stream",
     "text": [
      "0.2777777777777778\n",
      "0.44703999999999994\n",
      "340.5\n",
      "340.5\n",
      "0.5144444444444445\n"
     ]
    }
   ],
   "source": [
    "print(scipy.constants.kmh)            #0.2777777777777778\n",
    "print(scipy.constants.mph)            #0.44703999999999994\n",
    "print(scipy.constants.mach)           #340.5\n",
    "print(scipy.constants.speed_of_sound) #340.5\n",
    "print(scipy.constants.knot)           #0.5144444444444445\n"
   ]
  },
  {
   "cell_type": "code",
   "execution_count": 13,
   "id": "3f259072-1a66-4e7f-b513-c21cf005f6a5",
   "metadata": {},
   "outputs": [
    {
     "name": "stdout",
     "output_type": "stream",
     "text": [
      "273.15\n",
      "0.5555555555555556\n"
     ]
    }
   ],
   "source": [
    "print(scipy.constants.zero_Celsius)      #273.15\n",
    "print(scipy.constants.degree_Fahrenheit) #0.5555555555555556\n"
   ]
  },
  {
   "cell_type": "code",
   "execution_count": 14,
   "id": "695807d3-df0d-470d-b07d-14b66a276c9b",
   "metadata": {},
   "outputs": [
    {
     "name": "stdout",
     "output_type": "stream",
     "text": [
      "1.602176634e-19\n",
      "1.602176634e-19\n",
      "4.184\n",
      "4.184\n",
      "4.1868\n",
      "1e-07\n",
      "1055.05585262\n",
      "1055.05585262\n",
      "1054.3502644888888\n",
      "4184000000.0\n"
     ]
    }
   ],
   "source": [
    "print(scipy.constants.eV)            #1.6021766208e-19\n",
    "print(scipy.constants.electron_volt) #1.6021766208e-19\n",
    "print(scipy.constants.calorie)       #4.184\n",
    "print(scipy.constants.calorie_th)    #4.184\n",
    "print(scipy.constants.calorie_IT)    #4.1868\n",
    "print(scipy.constants.erg)           #1e-07\n",
    "print(scipy.constants.Btu)           #1055.05585262\n",
    "print(scipy.constants.Btu_IT)        #1055.05585262\n",
    "print(scipy.constants.Btu_th)        #1054.3502644888888\n",
    "print(scipy.constants.ton_TNT)       #4184000000.0\n"
   ]
  },
  {
   "cell_type": "code",
   "execution_count": 15,
   "id": "63edfba8-dd42-430a-8626-1e01939ee5b3",
   "metadata": {},
   "outputs": [
    {
     "name": "stdout",
     "output_type": "stream",
     "text": [
      "745.6998715822701\n",
      "745.6998715822701\n"
     ]
    }
   ],
   "source": [
    "print(scipy.constants.hp)         #745.6998715822701\n",
    "print(scipy.constants.horsepower) #745.6998715822701\n"
   ]
  },
  {
   "cell_type": "code",
   "execution_count": 16,
   "id": "468265c3-5e77-4a91-b8cb-053e3fb6e4bb",
   "metadata": {},
   "outputs": [
    {
     "name": "stdout",
     "output_type": "stream",
     "text": [
      "1e-05\n",
      "1e-05\n",
      "4.4482216152605\n",
      "4.4482216152605\n",
      "9.80665\n",
      "9.80665\n"
     ]
    }
   ],
   "source": [
    "print(scipy.constants.dyn)             #1e-05\n",
    "print(scipy.constants.dyne)            #1e-05\n",
    "print(scipy.constants.lbf)             #4.4482216152605\n",
    "print(scipy.constants.pound_force)     #4.4482216152605\n",
    "print(scipy.constants.kgf)             #9.80665\n",
    "print(scipy.constants.kilogram_force)  #9.80665\n"
   ]
  },
  {
   "cell_type": "code",
   "execution_count": 17,
   "id": "122e47f1-11ab-45d7-bc77-65594481d3e0",
   "metadata": {},
   "outputs": [
    {
     "name": "stdout",
     "output_type": "stream",
     "text": [
      "Area of Circle: 78.53981633974483\n",
      "Gravitational force: 3.3371499999999998e-09\n"
     ]
    }
   ],
   "source": [
    "# Area of a circle using\n",
    "# scipy.constants.pi\n",
    "def Area_of_Circle(r):\n",
    "    return scipy.constants.pi * r * r\n",
    " \n",
    "# Calculates the gravitational force\n",
    "# (Gravitational constant * (Mass body 1) * (Mass body 2)) / (distance^2)\n",
    "# scipy.constants.G\n",
    "def force_gravity(M, m, dist):\n",
    "    return (scipy.constants.G*M*m) / (dist**2)\n",
    " \n",
    " \n",
    "print(f'Area of Circle: {Area_of_Circle(5)}')\n",
    "print(f'Gravitational force: {force_gravity(10,5,1)}')\n"
   ]
  },
  {
   "cell_type": "code",
   "execution_count": 18,
   "id": "93d305f5-474e-4f1a-95d9-1b406f51d481",
   "metadata": {},
   "outputs": [
    {
     "data": {
      "text/plain": [
       "<1x9 sparse matrix of type '<class 'numpy.int64'>'\n",
       "\twith 3 stored elements in Compressed Sparse Row format>"
      ]
     },
     "execution_count": 18,
     "metadata": {},
     "output_type": "execute_result"
    }
   ],
   "source": [
    "# python3 -m pip instally numpy\n",
    "import numpy as np\n",
    "# create an array of mostly 0's\n",
    "arr = np.array([0, 0, 0, 0, 0, 1, 1, 0, 2])\n",
    "\n",
    "# Create a CSR matrix\n",
    "scipy.sparse.csr_matrix(arr)\n"
   ]
  },
  {
   "cell_type": "code",
   "execution_count": 20,
   "id": "7a4b21da-15dd-4282-acc7-43b67ab78836",
   "metadata": {},
   "outputs": [
    {
     "data": {
      "text/plain": [
       "array([1, 1, 2])"
      ]
     },
     "execution_count": 20,
     "metadata": {},
     "output_type": "execute_result"
    }
   ],
   "source": [
    "arr = np.array([[0, 0, 0], [0, 0, 1], [1, 0, 2]])\n",
    "scipy.sparse.csr_matrix(arr).data  \n"
   ]
  },
  {
   "cell_type": "code",
   "execution_count": 21,
   "id": "42bc6c07-4916-44e2-84cc-58e4c5603891",
   "metadata": {},
   "outputs": [
    {
     "data": {
      "text/plain": [
       "3"
      ]
     },
     "execution_count": 21,
     "metadata": {},
     "output_type": "execute_result"
    }
   ],
   "source": [
    "scipy.sparse.csr_matrix(arr).count_nonzero()\n"
   ]
  },
  {
   "cell_type": "code",
   "execution_count": 22,
   "id": "5f6e4114-1547-4259-bb16-a7d7f85ae0b0",
   "metadata": {},
   "outputs": [
    {
     "name": "stdout",
     "output_type": "stream",
     "text": [
      "  (1, 2)\t1\n",
      "  (2, 0)\t1\n",
      "  (2, 2)\t2\n"
     ]
    }
   ],
   "source": [
    "mat = scipy.sparse.csr_matrix(arr)\n",
    "# trash all the 0 values\n",
    "mat.eliminate_zeros()\n",
    "\n",
    "# display the remaining data\n",
    "print(mat)\n"
   ]
  },
  {
   "cell_type": "code",
   "execution_count": 23,
   "id": "ea6fc682-307f-42a1-9a3b-08602d7b1273",
   "metadata": {},
   "outputs": [
    {
     "data": {
      "text/plain": [
       "<3x3 sparse matrix of type '<class 'numpy.int64'>'\n",
       "\twith 3 stored elements in Compressed Sparse Row format>"
      ]
     },
     "execution_count": 23,
     "metadata": {},
     "output_type": "execute_result"
    }
   ],
   "source": [
    "mat = scipy.sparse.csr_matrix(arr)\n",
    "mat.sum_duplicates()\n",
    "mat\n"
   ]
  },
  {
   "cell_type": "code",
   "execution_count": 24,
   "id": "8bfa3c9a-0b31-40f0-a216-ac76dd0aebdd",
   "metadata": {},
   "outputs": [
    {
     "data": {
      "text/plain": [
       "<3x3 sparse matrix of type '<class 'numpy.int64'>'\n",
       "\twith 3 stored elements in Compressed Sparse Column format>"
      ]
     },
     "execution_count": 24,
     "metadata": {},
     "output_type": "execute_result"
    }
   ],
   "source": [
    "newarr = scipy.sparse.csr_matrix(arr).tocsc()\n",
    "\n",
    "newarr\n"
   ]
  },
  {
   "cell_type": "code",
   "execution_count": null,
   "id": "b77440b7-2cf4-47f8-a6c7-f967b90c3288",
   "metadata": {},
   "outputs": [],
   "source": []
  }
 ],
 "metadata": {
  "kernelspec": {
   "display_name": "Python 3 (ipykernel)",
   "language": "python",
   "name": "python3"
  },
  "language_info": {
   "codemirror_mode": {
    "name": "ipython",
    "version": 3
   },
   "file_extension": ".py",
   "mimetype": "text/x-python",
   "name": "python",
   "nbconvert_exporter": "python",
   "pygments_lexer": "ipython3",
   "version": "3.10.6"
  }
 },
 "nbformat": 4,
 "nbformat_minor": 5
}
