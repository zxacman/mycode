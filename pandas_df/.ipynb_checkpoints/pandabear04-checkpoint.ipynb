{
 "cells": [
  {
   "cell_type": "code",
   "execution_count": 1,
   "id": "97213cb6-5b17-4a7a-812a-3039d3bc7a8a",
   "metadata": {},
   "outputs": [],
   "source": [
    "# python3 -m pip install pandas\n",
    "import pandas as pd\n"
   ]
  },
  {
   "cell_type": "code",
   "execution_count": 2,
   "id": "0a759f15-cf7b-4540-beca-cee95f9b9208",
   "metadata": {},
   "outputs": [
    {
     "data": {
      "text/html": [
       "<div>\n",
       "<style scoped>\n",
       "    .dataframe tbody tr th:only-of-type {\n",
       "        vertical-align: middle;\n",
       "    }\n",
       "\n",
       "    .dataframe tbody tr th {\n",
       "        vertical-align: top;\n",
       "    }\n",
       "\n",
       "    .dataframe thead th {\n",
       "        text-align: right;\n",
       "    }\n",
       "</style>\n",
       "<table border=\"1\" class=\"dataframe\">\n",
       "  <thead>\n",
       "    <tr style=\"text-align: right;\">\n",
       "      <th></th>\n",
       "      <th>device</th>\n",
       "      <th>serial</th>\n",
       "      <th>ip</th>\n",
       "      <th>region</th>\n",
       "      <th>firmware</th>\n",
       "    </tr>\n",
       "  </thead>\n",
       "  <tbody>\n",
       "    <tr>\n",
       "      <th>0</th>\n",
       "      <td>ciscoios</td>\n",
       "      <td>C8293-928F</td>\n",
       "      <td>192.168.70.1</td>\n",
       "      <td>northeast</td>\n",
       "      <td>v14.6</td>\n",
       "    </tr>\n",
       "    <tr>\n",
       "      <th>1</th>\n",
       "      <td>ciscoiosxr</td>\n",
       "      <td>A7392-123D</td>\n",
       "      <td>10.0.0.1</td>\n",
       "      <td>northeast</td>\n",
       "      <td>v1.2</td>\n",
       "    </tr>\n",
       "    <tr>\n",
       "      <th>2</th>\n",
       "      <td>ciscoiosxe</td>\n",
       "      <td>C8233-593A</td>\n",
       "      <td>172.6.2.11</td>\n",
       "      <td>southwest</td>\n",
       "      <td>v3.2</td>\n",
       "    </tr>\n",
       "    <tr>\n",
       "      <th>3</th>\n",
       "      <td>cisconxos</td>\n",
       "      <td>B1122-938A</td>\n",
       "      <td>172.4.2.11</td>\n",
       "      <td>south</td>\n",
       "      <td>v1.2</td>\n",
       "    </tr>\n",
       "    <tr>\n",
       "      <th>4</th>\n",
       "      <td>ciscoios</td>\n",
       "      <td>C2832-23dB</td>\n",
       "      <td>192.168.102.1</td>\n",
       "      <td>west</td>\n",
       "      <td>v14.6</td>\n",
       "    </tr>\n",
       "    <tr>\n",
       "      <th>5</th>\n",
       "      <td>ciscoiosxr</td>\n",
       "      <td>C9878-323F</td>\n",
       "      <td>10.3.3.1</td>\n",
       "      <td>west</td>\n",
       "      <td>v1.2</td>\n",
       "    </tr>\n",
       "    <tr>\n",
       "      <th>6</th>\n",
       "      <td>ciscoiosxr</td>\n",
       "      <td>C7673-664E</td>\n",
       "      <td>10.66.7.1</td>\n",
       "      <td>north</td>\n",
       "      <td>v1.2</td>\n",
       "    </tr>\n",
       "  </tbody>\n",
       "</table>\n",
       "</div>"
      ],
      "text/plain": [
       "       device      serial             ip     region firmware\n",
       "0    ciscoios  C8293-928F   192.168.70.1  northeast    v14.6\n",
       "1  ciscoiosxr  A7392-123D       10.0.0.1  northeast     v1.2\n",
       "2  ciscoiosxe  C8233-593A     172.6.2.11  southwest     v3.2\n",
       "3   cisconxos  B1122-938A     172.4.2.11      south     v1.2\n",
       "4    ciscoios  C2832-23dB  192.168.102.1       west    v14.6\n",
       "5  ciscoiosxr  C9878-323F       10.3.3.1       west     v1.2\n",
       "6  ciscoiosxr  C7673-664E      10.66.7.1      north     v1.2"
      ]
     },
     "execution_count": 2,
     "metadata": {},
     "output_type": "execute_result"
    }
   ],
   "source": [
    "# create a dataframe ciscocsv\n",
    "ciscocsv = pd.read_csv(\"ciscodata.csv\")\n",
    "# create a dataframe ciscojson\n",
    "ciscojson = pd.read_json(\"ciscodata2.json\")\n",
    "\n",
    "# The line below concats and reapplies the index value\n",
    "ciscodf = pd.concat([ciscocsv, ciscojson], ignore_index=True, sort=False)\n",
    "\n",
    "## print to the screen the re-indexed dataframe\n",
    "ciscodf\n"
   ]
  },
  {
   "cell_type": "code",
   "execution_count": 3,
   "id": "10c514fb-f6d0-4424-9aea-0473ad7c62dd",
   "metadata": {},
   "outputs": [],
   "source": [
    "## export to json\n",
    "ciscodf.to_json(\"combined_ciscodata.json\")\n"
   ]
  },
  {
   "cell_type": "code",
   "execution_count": 4,
   "id": "b8498ef0-f5ba-4ecb-8acf-4a91c50a176d",
   "metadata": {},
   "outputs": [],
   "source": [
    "## export to csv\n",
    "ciscodf.to_csv(\"combined_ciscodata.csv\")\n"
   ]
  },
  {
   "cell_type": "code",
   "execution_count": 5,
   "id": "d575f7b2-c7f8-4491-896d-cbc5d687f6e0",
   "metadata": {},
   "outputs": [
    {
     "name": "stderr",
     "output_type": "stream",
     "text": [
      "/tmp/ipykernel_9915/3301863192.py:2: FutureWarning: As the xlwt package is no longer maintained, the xlwt engine will be removed in a future version of pandas. This is the only engine in pandas that supports writing in the xls format. Install openpyxl and write to an xlsx file instead. You can set the option io.excel.xls.writer to 'xlwt' to silence this warning. While this option is deprecated and will also raise a warning, it can be globally set and the warning suppressed.\n",
      "  ciscodf.to_excel(\"combined_ciscodata.xls\")\n"
     ]
    }
   ],
   "source": [
    "## export to Excel\n",
    "ciscodf.to_excel(\"combined_ciscodata.xls\")\n"
   ]
  },
  {
   "cell_type": "code",
   "execution_count": 6,
   "id": "9d6aac86-c7ff-45d0-9daf-c1505f758e44",
   "metadata": {},
   "outputs": [
    {
     "data": {
      "text/plain": [
       "{'device': {0: 'ciscoios',\n",
       "  1: 'ciscoiosxr',\n",
       "  2: 'ciscoiosxe',\n",
       "  3: 'cisconxos',\n",
       "  4: 'ciscoios',\n",
       "  5: 'ciscoiosxr',\n",
       "  6: 'ciscoiosxr'},\n",
       " 'serial': {0: 'C8293-928F',\n",
       "  1: 'A7392-123D',\n",
       "  2: 'C8233-593A',\n",
       "  3: 'B1122-938A',\n",
       "  4: 'C2832-23dB',\n",
       "  5: 'C9878-323F',\n",
       "  6: 'C7673-664E'},\n",
       " 'ip': {0: '192.168.70.1',\n",
       "  1: '10.0.0.1',\n",
       "  2: '172.6.2.11',\n",
       "  3: '172.4.2.11',\n",
       "  4: '192.168.102.1',\n",
       "  5: '10.3.3.1',\n",
       "  6: '10.66.7.1'},\n",
       " 'region': {0: 'northeast',\n",
       "  1: 'northeast',\n",
       "  2: 'southwest',\n",
       "  3: 'south',\n",
       "  4: 'west',\n",
       "  5: 'west',\n",
       "  6: 'north'},\n",
       " 'firmware': {0: 'v14.6',\n",
       "  1: 'v1.2',\n",
       "  2: 'v3.2',\n",
       "  3: 'v1.2',\n",
       "  4: 'v14.6',\n",
       "  5: 'v1.2',\n",
       "  6: 'v1.2'}}"
      ]
     },
     "execution_count": 6,
     "metadata": {},
     "output_type": "execute_result"
    }
   ],
   "source": [
    "## create a python dictionary\n",
    "x = ciscodf.to_dict()\n",
    "x        \n"
   ]
  },
  {
   "cell_type": "code",
   "execution_count": null,
   "id": "42ebe403-c3a0-470a-97d9-45ed870a1a70",
   "metadata": {},
   "outputs": [],
   "source": []
  }
 ],
 "metadata": {
  "kernelspec": {
   "display_name": "Python 3 (ipykernel)",
   "language": "python",
   "name": "python3"
  },
  "language_info": {
   "codemirror_mode": {
    "name": "ipython",
    "version": 3
   },
   "file_extension": ".py",
   "mimetype": "text/x-python",
   "name": "python",
   "nbconvert_exporter": "python",
   "pygments_lexer": "ipython3",
   "version": "3.10.6"
  }
 },
 "nbformat": 4,
 "nbformat_minor": 5
}
