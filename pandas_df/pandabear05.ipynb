{
 "cells": [
  {
   "cell_type": "code",
   "execution_count": 1,
   "id": "4a83bb6d-5f36-4edc-be5f-e5a71291dfcc",
   "metadata": {},
   "outputs": [],
   "source": [
    "import pandas as pd\n"
   ]
  },
  {
   "cell_type": "code",
   "execution_count": 2,
   "id": "f956aa34-27b0-440e-a0db-b148bb7f9a4b",
   "metadata": {},
   "outputs": [
    {
     "name": "stderr",
     "output_type": "stream",
     "text": [
      "/tmp/ipykernel_9931/175430463.py:19: FutureWarning: As the xlwt package is no longer maintained, the xlwt engine will be removed in a future version of pandas. This is the only engine in pandas that supports writing in the xls format. Install openpyxl and write to an xlsx file instead. You can set the option io.excel.xls.writer to 'xlwt' to silence this warning. While this option is deprecated and will also raise a warning, it can be globally set and the warning suppressed.\n",
      "  ciscodf.to_excel(\"combined_ciscodata.xls\", index=False)\n"
     ]
    },
    {
     "data": {
      "text/plain": [
       "[{'device': 'ciscoios',\n",
       "  'serial': 'C8293-928F',\n",
       "  'ip': '192.168.70.1',\n",
       "  'region': 'northeast',\n",
       "  'firmware': 'v14.6'},\n",
       " {'device': 'ciscoiosxr',\n",
       "  'serial': 'A7392-123D',\n",
       "  'ip': '10.0.0.1',\n",
       "  'region': 'northeast',\n",
       "  'firmware': 'v1.2'},\n",
       " {'device': 'ciscoiosxe',\n",
       "  'serial': 'C8233-593A',\n",
       "  'ip': '172.6.2.11',\n",
       "  'region': 'southwest',\n",
       "  'firmware': 'v3.2'},\n",
       " {'device': 'cisconxos',\n",
       "  'serial': 'B1122-938A',\n",
       "  'ip': '172.4.2.11',\n",
       "  'region': 'south',\n",
       "  'firmware': 'v1.2'},\n",
       " {'device': 'ciscoios',\n",
       "  'serial': 'C2832-23dB',\n",
       "  'ip': '192.168.102.1',\n",
       "  'region': 'west',\n",
       "  'firmware': 'v14.6'},\n",
       " {'device': 'ciscoiosxr',\n",
       "  'serial': 'C9878-323F',\n",
       "  'ip': '10.3.3.1',\n",
       "  'region': 'west',\n",
       "  'firmware': 'v1.2'},\n",
       " {'device': 'ciscoiosxr',\n",
       "  'serial': 'C7673-664E',\n",
       "  'ip': '10.66.7.1',\n",
       "  'region': 'north',\n",
       "  'firmware': 'v1.2'}]"
      ]
     },
     "execution_count": 2,
     "metadata": {},
     "output_type": "execute_result"
    }
   ],
   "source": [
    "# create a dataframe ciscocsv\n",
    "ciscocsv = pd.read_csv(\"ciscodata.csv\")\n",
    "# create a dataframe ciscojson\n",
    "ciscojson = pd.read_json(\"ciscodata2.json\")\n",
    "\n",
    "# The line below concats and reapplies the index value\n",
    "ciscodf = pd.concat([ciscocsv, ciscojson], ignore_index=True, sort=False)\n",
    "\n",
    "## export to json\n",
    "## do not include index number\n",
    "ciscodf.to_json(\"combined_ciscodata.json\", orient=\"records\")\n",
    "\n",
    "## export to csv\n",
    "## do not include index number\n",
    "ciscodf.to_csv(\"combined_ciscodata.csv\", index=False)\n",
    "\n",
    "## export to Excel\n",
    "## do not include index number to xls\n",
    "ciscodf.to_excel(\"combined_ciscodata.xls\", index=False)\n",
    "## do not include index number to xlsx\n",
    "ciscodf.to_excel(\"combined_ciscodata.xlsx\", index=False)\n",
    "\n",
    "## create a python dictionary\n",
    "## do not include index number\n",
    "x = ciscodf.to_dict(orient='records')\n",
    "x\n"
   ]
  },
  {
   "cell_type": "code",
   "execution_count": null,
   "id": "17abcc8f-3515-4807-a7e5-0246a8720984",
   "metadata": {},
   "outputs": [],
   "source": []
  }
 ],
 "metadata": {
  "kernelspec": {
   "display_name": "Python 3 (ipykernel)",
   "language": "python",
   "name": "python3"
  },
  "language_info": {
   "codemirror_mode": {
    "name": "ipython",
    "version": 3
   },
   "file_extension": ".py",
   "mimetype": "text/x-python",
   "name": "python",
   "nbconvert_exporter": "python",
   "pygments_lexer": "ipython3",
   "version": "3.10.6"
  }
 },
 "nbformat": 4,
 "nbformat_minor": 5
}
