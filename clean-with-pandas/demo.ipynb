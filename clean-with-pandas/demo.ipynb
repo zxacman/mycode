{
 "cells": [
  {
   "cell_type": "code",
   "execution_count": 1,
   "id": "c75e479d-7dd5-4023-9982-d237b062a67a",
   "metadata": {},
   "outputs": [
    {
     "ename": "ModuleNotFoundError",
     "evalue": "No module named 'mplfinance'",
     "output_type": "error",
     "traceback": [
      "\u001b[0;31m---------------------------------------------------------------------------\u001b[0m",
      "\u001b[0;31mModuleNotFoundError\u001b[0m                       Traceback (most recent call last)",
      "Cell \u001b[0;32mIn [1], line 10\u001b[0m\n\u001b[1;32m      8\u001b[0m \u001b[38;5;28;01mimport\u001b[39;00m \u001b[38;5;21;01mnumpy\u001b[39;00m \u001b[38;5;28;01mas\u001b[39;00m \u001b[38;5;21;01mnp\u001b[39;00m\n\u001b[1;32m      9\u001b[0m \u001b[38;5;28;01mimport\u001b[39;00m \u001b[38;5;21;01mpandas\u001b[39;00m \u001b[38;5;28;01mas\u001b[39;00m \u001b[38;5;21;01mpd\u001b[39;00m\n\u001b[0;32m---> 10\u001b[0m \u001b[38;5;28;01mimport\u001b[39;00m \u001b[38;5;21;01mmplfinance\u001b[39;00m \u001b[38;5;28;01mas\u001b[39;00m \u001b[38;5;21;01mmplf\u001b[39;00m\n\u001b[1;32m     11\u001b[0m \u001b[38;5;66;03m#import csv\u001b[39;00m\n\u001b[1;32m     12\u001b[0m \u001b[38;5;66;03m#import os \u001b[39;00m\n\u001b[1;32m     13\u001b[0m \u001b[38;5;28;01mfrom\u001b[39;00m \u001b[38;5;21;01mdatetime\u001b[39;00m \u001b[38;5;28;01mimport\u001b[39;00m datetime\n",
      "\u001b[0;31mModuleNotFoundError\u001b[0m: No module named 'mplfinance'"
     ]
    }
   ],
   "source": [
    "#!/usr/bin/python3\n",
    "\n",
    "#import pypyodbc\n",
    "#import urllib\n",
    "import urllib.request as urllib\n",
    "import requests\n",
    "import pickle\n",
    "import numpy as np\n",
    "import pandas as pd\n",
    "#import mplfinance as mplf\n",
    "#import csv\n",
    "#import os \n",
    "from datetime import datetime\n",
    "\n",
    "url=\"https://www.alphavantage.co/query?function=FX_INTRADAY&from_symbol=GBP&to_symbol=USD&interval=1min&outputsize=full&apikey=QRNX49EZGZKYUACF&datatype=csv\"\n",
    "response = requests.get(url)\n"
   ]
  },
  {
   "cell_type": "code",
   "execution_count": 2,
   "id": "f52e8bce-6339-4d16-b5f8-53091ca948ac",
   "metadata": {},
   "outputs": [
    {
     "data": {
      "text/plain": [
       "bytes"
      ]
     },
     "execution_count": 2,
     "metadata": {},
     "output_type": "execute_result"
    }
   ],
   "source": [
    "type(response.content)\n"
   ]
  },
  {
   "cell_type": "code",
   "execution_count": 3,
   "id": "77f35abe-d9cf-451e-ac0d-d47d23d9fb85",
   "metadata": {},
   "outputs": [],
   "source": [
    "from io import BytesIO\n",
    "\n",
    "df = pd.read_csv(BytesIO(response.content))"
   ]
  },
  {
   "cell_type": "code",
   "execution_count": 4,
   "id": "3d8ecff9-982e-4362-af8e-9b11d6ba27b7",
   "metadata": {},
   "outputs": [
    {
     "data": {
      "text/html": [
       "<div>\n",
       "<style scoped>\n",
       "    .dataframe tbody tr th:only-of-type {\n",
       "        vertical-align: middle;\n",
       "    }\n",
       "\n",
       "    .dataframe tbody tr th {\n",
       "        vertical-align: top;\n",
       "    }\n",
       "\n",
       "    .dataframe thead th {\n",
       "        text-align: right;\n",
       "    }\n",
       "</style>\n",
       "<table border=\"1\" class=\"dataframe\">\n",
       "  <thead>\n",
       "    <tr style=\"text-align: right;\">\n",
       "      <th></th>\n",
       "      <th>timestamp</th>\n",
       "      <th>open</th>\n",
       "      <th>high</th>\n",
       "      <th>low</th>\n",
       "      <th>close</th>\n",
       "      <th>Currency</th>\n",
       "      <th>TimeFrame</th>\n",
       "    </tr>\n",
       "  </thead>\n",
       "  <tbody>\n",
       "    <tr>\n",
       "      <th>0</th>\n",
       "      <td>2022-11-02 14:30:00</td>\n",
       "      <td>1.14809</td>\n",
       "      <td>1.14845</td>\n",
       "      <td>1.14786</td>\n",
       "      <td>1.14842</td>\n",
       "      <td>GBPUSD</td>\n",
       "      <td>1Min</td>\n",
       "    </tr>\n",
       "    <tr>\n",
       "      <th>1</th>\n",
       "      <td>2022-11-02 14:29:00</td>\n",
       "      <td>1.14809</td>\n",
       "      <td>1.14833</td>\n",
       "      <td>1.14768</td>\n",
       "      <td>1.14824</td>\n",
       "      <td>GBPUSD</td>\n",
       "      <td>1Min</td>\n",
       "    </tr>\n",
       "    <tr>\n",
       "      <th>2</th>\n",
       "      <td>2022-11-02 14:28:00</td>\n",
       "      <td>1.14788</td>\n",
       "      <td>1.14831</td>\n",
       "      <td>1.14760</td>\n",
       "      <td>1.14822</td>\n",
       "      <td>GBPUSD</td>\n",
       "      <td>1Min</td>\n",
       "    </tr>\n",
       "    <tr>\n",
       "      <th>3</th>\n",
       "      <td>2022-11-02 14:27:00</td>\n",
       "      <td>1.14799</td>\n",
       "      <td>1.14803</td>\n",
       "      <td>1.14755</td>\n",
       "      <td>1.14788</td>\n",
       "      <td>GBPUSD</td>\n",
       "      <td>1Min</td>\n",
       "    </tr>\n",
       "    <tr>\n",
       "      <th>4</th>\n",
       "      <td>2022-11-02 14:26:00</td>\n",
       "      <td>1.14788</td>\n",
       "      <td>1.14804</td>\n",
       "      <td>1.14755</td>\n",
       "      <td>1.14798</td>\n",
       "      <td>GBPUSD</td>\n",
       "      <td>1Min</td>\n",
       "    </tr>\n",
       "    <tr>\n",
       "      <th>...</th>\n",
       "      <td>...</td>\n",
       "      <td>...</td>\n",
       "      <td>...</td>\n",
       "      <td>...</td>\n",
       "      <td>...</td>\n",
       "      <td>...</td>\n",
       "      <td>...</td>\n",
       "    </tr>\n",
       "    <tr>\n",
       "      <th>1435</th>\n",
       "      <td>2022-11-01 14:35:00</td>\n",
       "      <td>1.15084</td>\n",
       "      <td>1.15090</td>\n",
       "      <td>1.14992</td>\n",
       "      <td>1.15026</td>\n",
       "      <td>GBPUSD</td>\n",
       "      <td>1Min</td>\n",
       "    </tr>\n",
       "    <tr>\n",
       "      <th>1436</th>\n",
       "      <td>2022-11-01 14:34:00</td>\n",
       "      <td>1.15019</td>\n",
       "      <td>1.15090</td>\n",
       "      <td>1.14965</td>\n",
       "      <td>1.15084</td>\n",
       "      <td>GBPUSD</td>\n",
       "      <td>1Min</td>\n",
       "    </tr>\n",
       "    <tr>\n",
       "      <th>1437</th>\n",
       "      <td>2022-11-01 14:33:00</td>\n",
       "      <td>1.14952</td>\n",
       "      <td>1.15026</td>\n",
       "      <td>1.14918</td>\n",
       "      <td>1.15019</td>\n",
       "      <td>GBPUSD</td>\n",
       "      <td>1Min</td>\n",
       "    </tr>\n",
       "    <tr>\n",
       "      <th>1438</th>\n",
       "      <td>2022-11-01 14:32:00</td>\n",
       "      <td>1.14935</td>\n",
       "      <td>1.14985</td>\n",
       "      <td>1.14917</td>\n",
       "      <td>1.14951</td>\n",
       "      <td>GBPUSD</td>\n",
       "      <td>1Min</td>\n",
       "    </tr>\n",
       "    <tr>\n",
       "      <th>1439</th>\n",
       "      <td>2022-11-01 14:31:00</td>\n",
       "      <td>1.14972</td>\n",
       "      <td>1.14975</td>\n",
       "      <td>1.14897</td>\n",
       "      <td>1.14935</td>\n",
       "      <td>GBPUSD</td>\n",
       "      <td>1Min</td>\n",
       "    </tr>\n",
       "  </tbody>\n",
       "</table>\n",
       "<p>1440 rows × 7 columns</p>\n",
       "</div>"
      ],
      "text/plain": [
       "                timestamp     open     high      low    close Currency  \\\n",
       "0     2022-11-02 14:30:00  1.14809  1.14845  1.14786  1.14842   GBPUSD   \n",
       "1     2022-11-02 14:29:00  1.14809  1.14833  1.14768  1.14824   GBPUSD   \n",
       "2     2022-11-02 14:28:00  1.14788  1.14831  1.14760  1.14822   GBPUSD   \n",
       "3     2022-11-02 14:27:00  1.14799  1.14803  1.14755  1.14788   GBPUSD   \n",
       "4     2022-11-02 14:26:00  1.14788  1.14804  1.14755  1.14798   GBPUSD   \n",
       "...                   ...      ...      ...      ...      ...      ...   \n",
       "1435  2022-11-01 14:35:00  1.15084  1.15090  1.14992  1.15026   GBPUSD   \n",
       "1436  2022-11-01 14:34:00  1.15019  1.15090  1.14965  1.15084   GBPUSD   \n",
       "1437  2022-11-01 14:33:00  1.14952  1.15026  1.14918  1.15019   GBPUSD   \n",
       "1438  2022-11-01 14:32:00  1.14935  1.14985  1.14917  1.14951   GBPUSD   \n",
       "1439  2022-11-01 14:31:00  1.14972  1.14975  1.14897  1.14935   GBPUSD   \n",
       "\n",
       "     TimeFrame  \n",
       "0         1Min  \n",
       "1         1Min  \n",
       "2         1Min  \n",
       "3         1Min  \n",
       "4         1Min  \n",
       "...        ...  \n",
       "1435      1Min  \n",
       "1436      1Min  \n",
       "1437      1Min  \n",
       "1438      1Min  \n",
       "1439      1Min  \n",
       "\n",
       "[1440 rows x 7 columns]"
      ]
     },
     "execution_count": 4,
     "metadata": {},
     "output_type": "execute_result"
    }
   ],
   "source": [
    "df\n",
    "df=df.assign(Currency= \"GBPUSD\")\n",
    "df\n",
    "df=df.assign(TimeFrame= \"1Min\")\n",
    "df\n"
   ]
  },
  {
   "cell_type": "code",
   "execution_count": 5,
   "id": "85322cef-739b-468c-8993-ce2810f6b713",
   "metadata": {},
   "outputs": [
    {
     "data": {
      "text/plain": [
       "requests.structures.CaseInsensitiveDict"
      ]
     },
     "execution_count": 5,
     "metadata": {},
     "output_type": "execute_result"
    }
   ],
   "source": [
    "type(response.headers)"
   ]
  },
  {
   "cell_type": "code",
   "execution_count": 6,
   "id": "532b74ce-a0c4-48ee-a5ba-9b53d83484f6",
   "metadata": {},
   "outputs": [
    {
     "data": {
      "text/plain": [
       "requests.models.Response"
      ]
     },
     "execution_count": 6,
     "metadata": {},
     "output_type": "execute_result"
    }
   ],
   "source": [
    "type(response)"
   ]
  },
  {
   "cell_type": "code",
   "execution_count": 7,
   "id": "e7760cc1-f91b-435c-87a2-24a5aa33a2d5",
   "metadata": {},
   "outputs": [
    {
     "data": {
      "text/plain": [
       "{'Date': 'Wed, 02 Nov 2022 14:31:01 GMT', 'Content-Type': 'application/x-download', 'Transfer-Encoding': 'chunked', 'Connection': 'keep-alive', 'Vary': 'Cookie', 'Content-Disposition': 'attachment; filename=fx_intraday_1min_GBP_USD.csv', 'Allow': 'GET, HEAD, OPTIONS', 'X-Frame-Options': 'SAMEORIGIN', 'Via': '1.1 vegur', 'CF-Cache-Status': 'DYNAMIC', 'Server-Timing': 'cf-q-config;dur=6.0000020312145e-06', 'Server': 'cloudflare', 'CF-RAY': '763d924739fb192c-EWR'}"
      ]
     },
     "execution_count": 7,
     "metadata": {},
     "output_type": "execute_result"
    }
   ],
   "source": [
    "response.headers"
   ]
  },
  {
   "cell_type": "code",
   "execution_count": 10,
   "id": "36cea14e-f681-4560-8e7e-44e59565b809",
   "metadata": {},
   "outputs": [],
   "source": [
    "df[['Date', 'Time']] = df['timestamp'].str.split(' ', expand=True)"
   ]
  },
  {
   "cell_type": "code",
   "execution_count": 11,
   "id": "8276fff9-a183-49dd-80ae-e611e975fa8a",
   "metadata": {},
   "outputs": [
    {
     "data": {
      "text/html": [
       "<div>\n",
       "<style scoped>\n",
       "    .dataframe tbody tr th:only-of-type {\n",
       "        vertical-align: middle;\n",
       "    }\n",
       "\n",
       "    .dataframe tbody tr th {\n",
       "        vertical-align: top;\n",
       "    }\n",
       "\n",
       "    .dataframe thead th {\n",
       "        text-align: right;\n",
       "    }\n",
       "</style>\n",
       "<table border=\"1\" class=\"dataframe\">\n",
       "  <thead>\n",
       "    <tr style=\"text-align: right;\">\n",
       "      <th></th>\n",
       "      <th>timestamp</th>\n",
       "      <th>open</th>\n",
       "      <th>high</th>\n",
       "      <th>low</th>\n",
       "      <th>close</th>\n",
       "      <th>Currency</th>\n",
       "      <th>TimeFrame</th>\n",
       "      <th>Date</th>\n",
       "      <th>Time</th>\n",
       "    </tr>\n",
       "  </thead>\n",
       "  <tbody>\n",
       "    <tr>\n",
       "      <th>0</th>\n",
       "      <td>2022-11-02 14:30:00</td>\n",
       "      <td>1.14809</td>\n",
       "      <td>1.14845</td>\n",
       "      <td>1.14786</td>\n",
       "      <td>1.14842</td>\n",
       "      <td>GBPUSD</td>\n",
       "      <td>1Min</td>\n",
       "      <td>2022-11-02</td>\n",
       "      <td>14:30:00</td>\n",
       "    </tr>\n",
       "    <tr>\n",
       "      <th>1</th>\n",
       "      <td>2022-11-02 14:29:00</td>\n",
       "      <td>1.14809</td>\n",
       "      <td>1.14833</td>\n",
       "      <td>1.14768</td>\n",
       "      <td>1.14824</td>\n",
       "      <td>GBPUSD</td>\n",
       "      <td>1Min</td>\n",
       "      <td>2022-11-02</td>\n",
       "      <td>14:29:00</td>\n",
       "    </tr>\n",
       "    <tr>\n",
       "      <th>2</th>\n",
       "      <td>2022-11-02 14:28:00</td>\n",
       "      <td>1.14788</td>\n",
       "      <td>1.14831</td>\n",
       "      <td>1.14760</td>\n",
       "      <td>1.14822</td>\n",
       "      <td>GBPUSD</td>\n",
       "      <td>1Min</td>\n",
       "      <td>2022-11-02</td>\n",
       "      <td>14:28:00</td>\n",
       "    </tr>\n",
       "    <tr>\n",
       "      <th>3</th>\n",
       "      <td>2022-11-02 14:27:00</td>\n",
       "      <td>1.14799</td>\n",
       "      <td>1.14803</td>\n",
       "      <td>1.14755</td>\n",
       "      <td>1.14788</td>\n",
       "      <td>GBPUSD</td>\n",
       "      <td>1Min</td>\n",
       "      <td>2022-11-02</td>\n",
       "      <td>14:27:00</td>\n",
       "    </tr>\n",
       "    <tr>\n",
       "      <th>4</th>\n",
       "      <td>2022-11-02 14:26:00</td>\n",
       "      <td>1.14788</td>\n",
       "      <td>1.14804</td>\n",
       "      <td>1.14755</td>\n",
       "      <td>1.14798</td>\n",
       "      <td>GBPUSD</td>\n",
       "      <td>1Min</td>\n",
       "      <td>2022-11-02</td>\n",
       "      <td>14:26:00</td>\n",
       "    </tr>\n",
       "  </tbody>\n",
       "</table>\n",
       "</div>"
      ],
      "text/plain": [
       "             timestamp     open     high      low    close Currency TimeFrame  \\\n",
       "0  2022-11-02 14:30:00  1.14809  1.14845  1.14786  1.14842   GBPUSD      1Min   \n",
       "1  2022-11-02 14:29:00  1.14809  1.14833  1.14768  1.14824   GBPUSD      1Min   \n",
       "2  2022-11-02 14:28:00  1.14788  1.14831  1.14760  1.14822   GBPUSD      1Min   \n",
       "3  2022-11-02 14:27:00  1.14799  1.14803  1.14755  1.14788   GBPUSD      1Min   \n",
       "4  2022-11-02 14:26:00  1.14788  1.14804  1.14755  1.14798   GBPUSD      1Min   \n",
       "\n",
       "         Date      Time  \n",
       "0  2022-11-02  14:30:00  \n",
       "1  2022-11-02  14:29:00  \n",
       "2  2022-11-02  14:28:00  \n",
       "3  2022-11-02  14:27:00  \n",
       "4  2022-11-02  14:26:00  "
      ]
     },
     "execution_count": 11,
     "metadata": {},
     "output_type": "execute_result"
    }
   ],
   "source": [
    "df.head()"
   ]
  },
  {
   "cell_type": "code",
   "execution_count": null,
   "id": "4d768af9-0df9-435b-a4c2-18d5536231b0",
   "metadata": {},
   "outputs": [],
   "source": []
  }
 ],
 "metadata": {
  "kernelspec": {
   "display_name": "Python 3 (ipykernel)",
   "language": "python",
   "name": "python3"
  },
  "language_info": {
   "codemirror_mode": {
    "name": "ipython",
    "version": 3
   },
   "file_extension": ".py",
   "mimetype": "text/x-python",
   "name": "python",
   "nbconvert_exporter": "python",
   "pygments_lexer": "ipython3",
   "version": "3.10.6"
  }
 },
 "nbformat": 4,
 "nbformat_minor": 5
}
