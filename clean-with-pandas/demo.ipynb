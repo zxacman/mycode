{
 "cells": [
  {
   "cell_type": "code",
   "execution_count": 1,
   "id": "c75e479d-7dd5-4023-9982-d237b062a67a",
   "metadata": {},
   "outputs": [],
   "source": [
    "#!/usr/bin/python3\n",
    "\n",
    "#import pypyodbc\n",
    "#import urllib\n",
    "import urllib.request as urllib\n",
    "import requests\n",
    "import pickle\n",
    "import numpy as np\n",
    "import pandas as pd\n",
    "import matplotlib.pyplot as plt\n",
    "import mplfinance as mpf\n",
    "#from mplfinance import candlestick_ohlc\n",
    "#import matplotlib.dates as mpdates\n",
    "#import csv\n",
    "#import os \n",
    "#from datetime import datetime\n",
    "\n",
    "url=\"https://www.alphavantage.co/query?function=FX_INTRADAY&from_symbol=GBP&to_symbol=USD&interval=1min&outputsize=full&apikey=QRNX49EZGZKYUACF&datatype=csv\"\n",
    "response = requests.get(url)\n"
   ]
  },
  {
   "cell_type": "code",
   "execution_count": 2,
   "id": "f52e8bce-6339-4d16-b5f8-53091ca948ac",
   "metadata": {},
   "outputs": [
    {
     "data": {
      "text/plain": [
       "bytes"
      ]
     },
     "execution_count": 2,
     "metadata": {},
     "output_type": "execute_result"
    }
   ],
   "source": [
    "type(response.content)\n"
   ]
  },
  {
   "cell_type": "code",
   "execution_count": 3,
   "id": "77f35abe-d9cf-451e-ac0d-d47d23d9fb85",
   "metadata": {},
   "outputs": [],
   "source": [
    "from io import BytesIO\n",
    "\n",
    "df = pd.read_csv(BytesIO(response.content))\n",
    "df_for_graph=df.assign(Volume = 0)"
   ]
  },
  {
   "cell_type": "code",
   "execution_count": 4,
   "id": "3d8ecff9-982e-4362-af8e-9b11d6ba27b7",
   "metadata": {},
   "outputs": [
    {
     "data": {
      "text/html": [
       "<div>\n",
       "<style scoped>\n",
       "    .dataframe tbody tr th:only-of-type {\n",
       "        vertical-align: middle;\n",
       "    }\n",
       "\n",
       "    .dataframe tbody tr th {\n",
       "        vertical-align: top;\n",
       "    }\n",
       "\n",
       "    .dataframe thead th {\n",
       "        text-align: right;\n",
       "    }\n",
       "</style>\n",
       "<table border=\"1\" class=\"dataframe\">\n",
       "  <thead>\n",
       "    <tr style=\"text-align: right;\">\n",
       "      <th></th>\n",
       "      <th>timestamp</th>\n",
       "      <th>open</th>\n",
       "      <th>high</th>\n",
       "      <th>low</th>\n",
       "      <th>close</th>\n",
       "      <th>Currency</th>\n",
       "      <th>TimeFrame</th>\n",
       "    </tr>\n",
       "  </thead>\n",
       "  <tbody>\n",
       "    <tr>\n",
       "      <th>0</th>\n",
       "      <td>2022-11-02 19:12:00</td>\n",
       "      <td>1.14707</td>\n",
       "      <td>1.14717</td>\n",
       "      <td>1.14697</td>\n",
       "      <td>1.14707</td>\n",
       "      <td>GBPUSD</td>\n",
       "      <td>1Min</td>\n",
       "    </tr>\n",
       "    <tr>\n",
       "      <th>1</th>\n",
       "      <td>2022-11-02 19:11:00</td>\n",
       "      <td>1.14759</td>\n",
       "      <td>1.14782</td>\n",
       "      <td>1.14681</td>\n",
       "      <td>1.14708</td>\n",
       "      <td>GBPUSD</td>\n",
       "      <td>1Min</td>\n",
       "    </tr>\n",
       "    <tr>\n",
       "      <th>2</th>\n",
       "      <td>2022-11-02 19:10:00</td>\n",
       "      <td>1.14840</td>\n",
       "      <td>1.14855</td>\n",
       "      <td>1.14710</td>\n",
       "      <td>1.14748</td>\n",
       "      <td>GBPUSD</td>\n",
       "      <td>1Min</td>\n",
       "    </tr>\n",
       "    <tr>\n",
       "      <th>3</th>\n",
       "      <td>2022-11-02 19:09:00</td>\n",
       "      <td>1.14804</td>\n",
       "      <td>1.14917</td>\n",
       "      <td>1.14780</td>\n",
       "      <td>1.14840</td>\n",
       "      <td>GBPUSD</td>\n",
       "      <td>1Min</td>\n",
       "    </tr>\n",
       "    <tr>\n",
       "      <th>4</th>\n",
       "      <td>2022-11-02 19:08:00</td>\n",
       "      <td>1.14680</td>\n",
       "      <td>1.14818</td>\n",
       "      <td>1.14652</td>\n",
       "      <td>1.14806</td>\n",
       "      <td>GBPUSD</td>\n",
       "      <td>1Min</td>\n",
       "    </tr>\n",
       "    <tr>\n",
       "      <th>...</th>\n",
       "      <td>...</td>\n",
       "      <td>...</td>\n",
       "      <td>...</td>\n",
       "      <td>...</td>\n",
       "      <td>...</td>\n",
       "      <td>...</td>\n",
       "      <td>...</td>\n",
       "    </tr>\n",
       "    <tr>\n",
       "      <th>1435</th>\n",
       "      <td>2022-11-01 19:17:00</td>\n",
       "      <td>1.14840</td>\n",
       "      <td>1.14840</td>\n",
       "      <td>1.14794</td>\n",
       "      <td>1.14826</td>\n",
       "      <td>GBPUSD</td>\n",
       "      <td>1Min</td>\n",
       "    </tr>\n",
       "    <tr>\n",
       "      <th>1436</th>\n",
       "      <td>2022-11-01 19:16:00</td>\n",
       "      <td>1.14830</td>\n",
       "      <td>1.14852</td>\n",
       "      <td>1.14799</td>\n",
       "      <td>1.14833</td>\n",
       "      <td>GBPUSD</td>\n",
       "      <td>1Min</td>\n",
       "    </tr>\n",
       "    <tr>\n",
       "      <th>1437</th>\n",
       "      <td>2022-11-01 19:15:00</td>\n",
       "      <td>1.14831</td>\n",
       "      <td>1.14836</td>\n",
       "      <td>1.14799</td>\n",
       "      <td>1.14832</td>\n",
       "      <td>GBPUSD</td>\n",
       "      <td>1Min</td>\n",
       "    </tr>\n",
       "    <tr>\n",
       "      <th>1438</th>\n",
       "      <td>2022-11-01 19:14:00</td>\n",
       "      <td>1.14826</td>\n",
       "      <td>1.14840</td>\n",
       "      <td>1.14796</td>\n",
       "      <td>1.14828</td>\n",
       "      <td>GBPUSD</td>\n",
       "      <td>1Min</td>\n",
       "    </tr>\n",
       "    <tr>\n",
       "      <th>1439</th>\n",
       "      <td>2022-11-01 19:13:00</td>\n",
       "      <td>1.14797</td>\n",
       "      <td>1.14833</td>\n",
       "      <td>1.14765</td>\n",
       "      <td>1.14828</td>\n",
       "      <td>GBPUSD</td>\n",
       "      <td>1Min</td>\n",
       "    </tr>\n",
       "  </tbody>\n",
       "</table>\n",
       "<p>1440 rows × 7 columns</p>\n",
       "</div>"
      ],
      "text/plain": [
       "                timestamp     open     high      low    close Currency  \\\n",
       "0     2022-11-02 19:12:00  1.14707  1.14717  1.14697  1.14707   GBPUSD   \n",
       "1     2022-11-02 19:11:00  1.14759  1.14782  1.14681  1.14708   GBPUSD   \n",
       "2     2022-11-02 19:10:00  1.14840  1.14855  1.14710  1.14748   GBPUSD   \n",
       "3     2022-11-02 19:09:00  1.14804  1.14917  1.14780  1.14840   GBPUSD   \n",
       "4     2022-11-02 19:08:00  1.14680  1.14818  1.14652  1.14806   GBPUSD   \n",
       "...                   ...      ...      ...      ...      ...      ...   \n",
       "1435  2022-11-01 19:17:00  1.14840  1.14840  1.14794  1.14826   GBPUSD   \n",
       "1436  2022-11-01 19:16:00  1.14830  1.14852  1.14799  1.14833   GBPUSD   \n",
       "1437  2022-11-01 19:15:00  1.14831  1.14836  1.14799  1.14832   GBPUSD   \n",
       "1438  2022-11-01 19:14:00  1.14826  1.14840  1.14796  1.14828   GBPUSD   \n",
       "1439  2022-11-01 19:13:00  1.14797  1.14833  1.14765  1.14828   GBPUSD   \n",
       "\n",
       "     TimeFrame  \n",
       "0         1Min  \n",
       "1         1Min  \n",
       "2         1Min  \n",
       "3         1Min  \n",
       "4         1Min  \n",
       "...        ...  \n",
       "1435      1Min  \n",
       "1436      1Min  \n",
       "1437      1Min  \n",
       "1438      1Min  \n",
       "1439      1Min  \n",
       "\n",
       "[1440 rows x 7 columns]"
      ]
     },
     "execution_count": 4,
     "metadata": {},
     "output_type": "execute_result"
    }
   ],
   "source": [
    "df\n",
    "df=df.assign(Currency= \"GBPUSD\")\n",
    "df\n",
    "df=df.assign(TimeFrame= \"1Min\")\n",
    "df\n"
   ]
  },
  {
   "cell_type": "code",
   "execution_count": 5,
   "id": "85322cef-739b-468c-8993-ce2810f6b713",
   "metadata": {},
   "outputs": [
    {
     "data": {
      "text/plain": [
       "requests.structures.CaseInsensitiveDict"
      ]
     },
     "execution_count": 5,
     "metadata": {},
     "output_type": "execute_result"
    }
   ],
   "source": [
    "type(response.headers)"
   ]
  },
  {
   "cell_type": "code",
   "execution_count": 6,
   "id": "532b74ce-a0c4-48ee-a5ba-9b53d83484f6",
   "metadata": {},
   "outputs": [
    {
     "data": {
      "text/plain": [
       "requests.models.Response"
      ]
     },
     "execution_count": 6,
     "metadata": {},
     "output_type": "execute_result"
    }
   ],
   "source": [
    "type(response)"
   ]
  },
  {
   "cell_type": "code",
   "execution_count": 7,
   "id": "e7760cc1-f91b-435c-87a2-24a5aa33a2d5",
   "metadata": {},
   "outputs": [
    {
     "data": {
      "text/plain": [
       "{'Date': 'Wed, 02 Nov 2022 19:12:20 GMT', 'Content-Type': 'application/x-download', 'Transfer-Encoding': 'chunked', 'Connection': 'keep-alive', 'Allow': 'GET, HEAD, OPTIONS', 'Content-Disposition': 'attachment; filename=fx_intraday_1min_GBP_USD.csv', 'Vary': 'Cookie', 'X-Frame-Options': 'SAMEORIGIN', 'Via': '1.1 vegur', 'CF-Cache-Status': 'DYNAMIC', 'Server-Timing': 'cf-q-config;dur=7.0000005507609e-06', 'Server': 'cloudflare', 'CF-RAY': '763f2e5d3b158c6b-EWR'}"
      ]
     },
     "execution_count": 7,
     "metadata": {},
     "output_type": "execute_result"
    }
   ],
   "source": [
    "response.headers"
   ]
  },
  {
   "cell_type": "code",
   "execution_count": 8,
   "id": "36cea14e-f681-4560-8e7e-44e59565b809",
   "metadata": {},
   "outputs": [],
   "source": [
    "df[['Date', 'Time']] = df['timestamp'].str.split(' ', expand=True)"
   ]
  },
  {
   "cell_type": "code",
   "execution_count": 9,
   "id": "8276fff9-a183-49dd-80ae-e611e975fa8a",
   "metadata": {},
   "outputs": [
    {
     "data": {
      "text/html": [
       "<div>\n",
       "<style scoped>\n",
       "    .dataframe tbody tr th:only-of-type {\n",
       "        vertical-align: middle;\n",
       "    }\n",
       "\n",
       "    .dataframe tbody tr th {\n",
       "        vertical-align: top;\n",
       "    }\n",
       "\n",
       "    .dataframe thead th {\n",
       "        text-align: right;\n",
       "    }\n",
       "</style>\n",
       "<table border=\"1\" class=\"dataframe\">\n",
       "  <thead>\n",
       "    <tr style=\"text-align: right;\">\n",
       "      <th></th>\n",
       "      <th>timestamp</th>\n",
       "      <th>open</th>\n",
       "      <th>high</th>\n",
       "      <th>low</th>\n",
       "      <th>close</th>\n",
       "      <th>Currency</th>\n",
       "      <th>TimeFrame</th>\n",
       "      <th>Date</th>\n",
       "      <th>Time</th>\n",
       "    </tr>\n",
       "  </thead>\n",
       "  <tbody>\n",
       "    <tr>\n",
       "      <th>0</th>\n",
       "      <td>2022-11-02 19:12:00</td>\n",
       "      <td>1.14707</td>\n",
       "      <td>1.14717</td>\n",
       "      <td>1.14697</td>\n",
       "      <td>1.14707</td>\n",
       "      <td>GBPUSD</td>\n",
       "      <td>1Min</td>\n",
       "      <td>2022-11-02</td>\n",
       "      <td>19:12:00</td>\n",
       "    </tr>\n",
       "    <tr>\n",
       "      <th>1</th>\n",
       "      <td>2022-11-02 19:11:00</td>\n",
       "      <td>1.14759</td>\n",
       "      <td>1.14782</td>\n",
       "      <td>1.14681</td>\n",
       "      <td>1.14708</td>\n",
       "      <td>GBPUSD</td>\n",
       "      <td>1Min</td>\n",
       "      <td>2022-11-02</td>\n",
       "      <td>19:11:00</td>\n",
       "    </tr>\n",
       "    <tr>\n",
       "      <th>2</th>\n",
       "      <td>2022-11-02 19:10:00</td>\n",
       "      <td>1.14840</td>\n",
       "      <td>1.14855</td>\n",
       "      <td>1.14710</td>\n",
       "      <td>1.14748</td>\n",
       "      <td>GBPUSD</td>\n",
       "      <td>1Min</td>\n",
       "      <td>2022-11-02</td>\n",
       "      <td>19:10:00</td>\n",
       "    </tr>\n",
       "    <tr>\n",
       "      <th>3</th>\n",
       "      <td>2022-11-02 19:09:00</td>\n",
       "      <td>1.14804</td>\n",
       "      <td>1.14917</td>\n",
       "      <td>1.14780</td>\n",
       "      <td>1.14840</td>\n",
       "      <td>GBPUSD</td>\n",
       "      <td>1Min</td>\n",
       "      <td>2022-11-02</td>\n",
       "      <td>19:09:00</td>\n",
       "    </tr>\n",
       "    <tr>\n",
       "      <th>4</th>\n",
       "      <td>2022-11-02 19:08:00</td>\n",
       "      <td>1.14680</td>\n",
       "      <td>1.14818</td>\n",
       "      <td>1.14652</td>\n",
       "      <td>1.14806</td>\n",
       "      <td>GBPUSD</td>\n",
       "      <td>1Min</td>\n",
       "      <td>2022-11-02</td>\n",
       "      <td>19:08:00</td>\n",
       "    </tr>\n",
       "  </tbody>\n",
       "</table>\n",
       "</div>"
      ],
      "text/plain": [
       "             timestamp     open     high      low    close Currency TimeFrame  \\\n",
       "0  2022-11-02 19:12:00  1.14707  1.14717  1.14697  1.14707   GBPUSD      1Min   \n",
       "1  2022-11-02 19:11:00  1.14759  1.14782  1.14681  1.14708   GBPUSD      1Min   \n",
       "2  2022-11-02 19:10:00  1.14840  1.14855  1.14710  1.14748   GBPUSD      1Min   \n",
       "3  2022-11-02 19:09:00  1.14804  1.14917  1.14780  1.14840   GBPUSD      1Min   \n",
       "4  2022-11-02 19:08:00  1.14680  1.14818  1.14652  1.14806   GBPUSD      1Min   \n",
       "\n",
       "         Date      Time  \n",
       "0  2022-11-02  19:12:00  \n",
       "1  2022-11-02  19:11:00  \n",
       "2  2022-11-02  19:10:00  \n",
       "3  2022-11-02  19:09:00  \n",
       "4  2022-11-02  19:08:00  "
      ]
     },
     "execution_count": 9,
     "metadata": {},
     "output_type": "execute_result"
    }
   ],
   "source": [
    "df.head()"
   ]
  },
  {
   "cell_type": "code",
   "execution_count": 10,
   "id": "4d768af9-0df9-435b-a4c2-18d5536231b0",
   "metadata": {},
   "outputs": [
    {
     "ename": "TypeError",
     "evalue": "Expect data.index as DatetimeIndex",
     "output_type": "error",
     "traceback": [
      "\u001b[0;31m---------------------------------------------------------------------------\u001b[0m",
      "\u001b[0;31mTypeError\u001b[0m                                 Traceback (most recent call last)",
      "Cell \u001b[0;32mIn [10], line 1\u001b[0m\n\u001b[0;32m----> 1\u001b[0m \u001b[43mmpf\u001b[49m\u001b[38;5;241;43m.\u001b[39;49m\u001b[43mplot\u001b[49m\u001b[43m(\u001b[49m\u001b[43mdf_for_graph\u001b[49m\u001b[43m,\u001b[49m\u001b[38;5;28;43mtype\u001b[39;49m\u001b[38;5;241;43m=\u001b[39;49m\u001b[38;5;124;43m'\u001b[39;49m\u001b[38;5;124;43mcandle\u001b[39;49m\u001b[38;5;124;43m'\u001b[39;49m\u001b[43m)\u001b[49m\n",
      "File \u001b[0;32m~/.local/lib/python3.10/site-packages/mplfinance/plotting.py:416\u001b[0m, in \u001b[0;36mplot\u001b[0;34m(data, **kwargs)\u001b[0m\n\u001b[1;32m    413\u001b[0m \u001b[38;5;66;03m# translate alias types:\u001b[39;00m\n\u001b[1;32m    414\u001b[0m config[\u001b[38;5;124m'\u001b[39m\u001b[38;5;124mtype\u001b[39m\u001b[38;5;124m'\u001b[39m] \u001b[38;5;241m=\u001b[39m _get_valid_plot_types(config[\u001b[38;5;124m'\u001b[39m\u001b[38;5;124mtype\u001b[39m\u001b[38;5;124m'\u001b[39m])\n\u001b[0;32m--> 416\u001b[0m dates,opens,highs,lows,closes,volumes \u001b[38;5;241m=\u001b[39m \u001b[43m_check_and_prepare_data\u001b[49m\u001b[43m(\u001b[49m\u001b[43mdata\u001b[49m\u001b[43m,\u001b[49m\u001b[43m \u001b[49m\u001b[43mconfig\u001b[49m\u001b[43m)\u001b[49m\n\u001b[1;32m    418\u001b[0m config[\u001b[38;5;124m'\u001b[39m\u001b[38;5;124mxlim\u001b[39m\u001b[38;5;124m'\u001b[39m] \u001b[38;5;241m=\u001b[39m _check_and_convert_xlim_configuration(data, config)\n\u001b[1;32m    420\u001b[0m \u001b[38;5;28;01mif\u001b[39;00m config[\u001b[38;5;124m'\u001b[39m\u001b[38;5;124mtype\u001b[39m\u001b[38;5;124m'\u001b[39m] \u001b[38;5;129;01min\u001b[39;00m VALID_PMOVE_TYPES \u001b[38;5;129;01mand\u001b[39;00m config[\u001b[38;5;124m'\u001b[39m\u001b[38;5;124maddplot\u001b[39m\u001b[38;5;124m'\u001b[39m] \u001b[38;5;129;01mis\u001b[39;00m \u001b[38;5;129;01mnot\u001b[39;00m \u001b[38;5;28;01mNone\u001b[39;00m:\n",
      "File \u001b[0;32m~/.local/lib/python3.10/site-packages/mplfinance/_arg_validators.py:31\u001b[0m, in \u001b[0;36m_check_and_prepare_data\u001b[0;34m(data, config)\u001b[0m\n\u001b[1;32m     28\u001b[0m     \u001b[38;5;28;01mraise\u001b[39;00m \u001b[38;5;167;01mTypeError\u001b[39;00m(\u001b[38;5;124m'\u001b[39m\u001b[38;5;124mExpect data as DataFrame\u001b[39m\u001b[38;5;124m'\u001b[39m)\n\u001b[1;32m     30\u001b[0m \u001b[38;5;28;01mif\u001b[39;00m \u001b[38;5;129;01mnot\u001b[39;00m \u001b[38;5;28misinstance\u001b[39m(data\u001b[38;5;241m.\u001b[39mindex,pd\u001b[38;5;241m.\u001b[39mcore\u001b[38;5;241m.\u001b[39mindexes\u001b[38;5;241m.\u001b[39mdatetimes\u001b[38;5;241m.\u001b[39mDatetimeIndex):\n\u001b[0;32m---> 31\u001b[0m     \u001b[38;5;28;01mraise\u001b[39;00m \u001b[38;5;167;01mTypeError\u001b[39;00m(\u001b[38;5;124m'\u001b[39m\u001b[38;5;124mExpect data.index as DatetimeIndex\u001b[39m\u001b[38;5;124m'\u001b[39m)\n\u001b[1;32m     33\u001b[0m \u001b[38;5;66;03m# We will not be fully case-insensitive (since Pandas columns as NOT case-insensitive)\u001b[39;00m\n\u001b[1;32m     34\u001b[0m \u001b[38;5;66;03m# but because so many people have requested it, for the default column names we will\u001b[39;00m\n\u001b[1;32m     35\u001b[0m \u001b[38;5;66;03m# try both Capitalized and lower case:\u001b[39;00m\n\u001b[1;32m     36\u001b[0m columns \u001b[38;5;241m=\u001b[39m config[\u001b[38;5;124m'\u001b[39m\u001b[38;5;124mcolumns\u001b[39m\u001b[38;5;124m'\u001b[39m]\n",
      "\u001b[0;31mTypeError\u001b[0m: Expect data.index as DatetimeIndex"
     ]
    }
   ],
   "source": [
    "mpf.plot(df_for_graph,type='candle')"
   ]
  },
  {
   "cell_type": "code",
   "execution_count": 11,
   "id": "96d131e2-2123-412f-be12-38843a7c3ced",
   "metadata": {},
   "outputs": [
    {
     "ename": "TypeError",
     "evalue": "Expect data.index as DatetimeIndex",
     "output_type": "error",
     "traceback": [
      "\u001b[0;31m---------------------------------------------------------------------------\u001b[0m",
      "\u001b[0;31mTypeError\u001b[0m                                 Traceback (most recent call last)",
      "Cell \u001b[0;32mIn [11], line 1\u001b[0m\n\u001b[0;32m----> 1\u001b[0m \u001b[43mmpf\u001b[49m\u001b[38;5;241;43m.\u001b[39;49m\u001b[43mplot\u001b[49m\u001b[43m(\u001b[49m\u001b[43mdf_for_graph\u001b[49m\u001b[43m)\u001b[49m\n",
      "File \u001b[0;32m~/.local/lib/python3.10/site-packages/mplfinance/plotting.py:416\u001b[0m, in \u001b[0;36mplot\u001b[0;34m(data, **kwargs)\u001b[0m\n\u001b[1;32m    413\u001b[0m \u001b[38;5;66;03m# translate alias types:\u001b[39;00m\n\u001b[1;32m    414\u001b[0m config[\u001b[38;5;124m'\u001b[39m\u001b[38;5;124mtype\u001b[39m\u001b[38;5;124m'\u001b[39m] \u001b[38;5;241m=\u001b[39m _get_valid_plot_types(config[\u001b[38;5;124m'\u001b[39m\u001b[38;5;124mtype\u001b[39m\u001b[38;5;124m'\u001b[39m])\n\u001b[0;32m--> 416\u001b[0m dates,opens,highs,lows,closes,volumes \u001b[38;5;241m=\u001b[39m \u001b[43m_check_and_prepare_data\u001b[49m\u001b[43m(\u001b[49m\u001b[43mdata\u001b[49m\u001b[43m,\u001b[49m\u001b[43m \u001b[49m\u001b[43mconfig\u001b[49m\u001b[43m)\u001b[49m\n\u001b[1;32m    418\u001b[0m config[\u001b[38;5;124m'\u001b[39m\u001b[38;5;124mxlim\u001b[39m\u001b[38;5;124m'\u001b[39m] \u001b[38;5;241m=\u001b[39m _check_and_convert_xlim_configuration(data, config)\n\u001b[1;32m    420\u001b[0m \u001b[38;5;28;01mif\u001b[39;00m config[\u001b[38;5;124m'\u001b[39m\u001b[38;5;124mtype\u001b[39m\u001b[38;5;124m'\u001b[39m] \u001b[38;5;129;01min\u001b[39;00m VALID_PMOVE_TYPES \u001b[38;5;129;01mand\u001b[39;00m config[\u001b[38;5;124m'\u001b[39m\u001b[38;5;124maddplot\u001b[39m\u001b[38;5;124m'\u001b[39m] \u001b[38;5;129;01mis\u001b[39;00m \u001b[38;5;129;01mnot\u001b[39;00m \u001b[38;5;28;01mNone\u001b[39;00m:\n",
      "File \u001b[0;32m~/.local/lib/python3.10/site-packages/mplfinance/_arg_validators.py:31\u001b[0m, in \u001b[0;36m_check_and_prepare_data\u001b[0;34m(data, config)\u001b[0m\n\u001b[1;32m     28\u001b[0m     \u001b[38;5;28;01mraise\u001b[39;00m \u001b[38;5;167;01mTypeError\u001b[39;00m(\u001b[38;5;124m'\u001b[39m\u001b[38;5;124mExpect data as DataFrame\u001b[39m\u001b[38;5;124m'\u001b[39m)\n\u001b[1;32m     30\u001b[0m \u001b[38;5;28;01mif\u001b[39;00m \u001b[38;5;129;01mnot\u001b[39;00m \u001b[38;5;28misinstance\u001b[39m(data\u001b[38;5;241m.\u001b[39mindex,pd\u001b[38;5;241m.\u001b[39mcore\u001b[38;5;241m.\u001b[39mindexes\u001b[38;5;241m.\u001b[39mdatetimes\u001b[38;5;241m.\u001b[39mDatetimeIndex):\n\u001b[0;32m---> 31\u001b[0m     \u001b[38;5;28;01mraise\u001b[39;00m \u001b[38;5;167;01mTypeError\u001b[39;00m(\u001b[38;5;124m'\u001b[39m\u001b[38;5;124mExpect data.index as DatetimeIndex\u001b[39m\u001b[38;5;124m'\u001b[39m)\n\u001b[1;32m     33\u001b[0m \u001b[38;5;66;03m# We will not be fully case-insensitive (since Pandas columns as NOT case-insensitive)\u001b[39;00m\n\u001b[1;32m     34\u001b[0m \u001b[38;5;66;03m# but because so many people have requested it, for the default column names we will\u001b[39;00m\n\u001b[1;32m     35\u001b[0m \u001b[38;5;66;03m# try both Capitalized and lower case:\u001b[39;00m\n\u001b[1;32m     36\u001b[0m columns \u001b[38;5;241m=\u001b[39m config[\u001b[38;5;124m'\u001b[39m\u001b[38;5;124mcolumns\u001b[39m\u001b[38;5;124m'\u001b[39m]\n",
      "\u001b[0;31mTypeError\u001b[0m: Expect data.index as DatetimeIndex"
     ]
    }
   ],
   "source": [
    "mpf.plot(df_for_graph)"
   ]
  },
  {
   "cell_type": "code",
   "execution_count": null,
   "id": "46b36cf3-e019-4cda-bcb5-0eced93109f5",
   "metadata": {},
   "outputs": [],
   "source": []
  }
 ],
 "metadata": {
  "kernelspec": {
   "display_name": "Python 3 (ipykernel)",
   "language": "python",
   "name": "python3"
  },
  "language_info": {
   "codemirror_mode": {
    "name": "ipython",
    "version": 3
   },
   "file_extension": ".py",
   "mimetype": "text/x-python",
   "name": "python",
   "nbconvert_exporter": "python",
   "pygments_lexer": "ipython3",
   "version": "3.10.6"
  }
 },
 "nbformat": 4,
 "nbformat_minor": 5
}
