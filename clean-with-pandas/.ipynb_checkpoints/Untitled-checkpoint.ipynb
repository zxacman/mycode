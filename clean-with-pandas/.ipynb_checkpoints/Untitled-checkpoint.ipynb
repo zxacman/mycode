{
 "cells": [
  {
   "cell_type": "code",
   "execution_count": 4,
   "id": "a58029bd-5557-4ced-bad5-ac47be4a7275",
   "metadata": {},
   "outputs": [
    {
     "name": "stdout",
     "output_type": "stream",
     "text": [
      "Opened database successfully\n"
     ]
    },
    {
     "ename": "OperationalError",
     "evalue": "database is locked",
     "output_type": "error",
     "traceback": [
      "\u001b[0;31m---------------------------------------------------------------------------\u001b[0m",
      "\u001b[0;31mOperationalError\u001b[0m                          Traceback (most recent call last)",
      "Cell \u001b[0;32mIn [4], line 4\u001b[0m\n\u001b[1;32m      2\u001b[0m conn \u001b[38;5;241m=\u001b[39m sqlite3\u001b[38;5;241m.\u001b[39mconnect(\u001b[38;5;124m'\u001b[39m\u001b[38;5;124mchallenge.db\u001b[39m\u001b[38;5;124m'\u001b[39m)\n\u001b[1;32m      3\u001b[0m \u001b[38;5;28mprint\u001b[39m(\u001b[38;5;124m\"\u001b[39m\u001b[38;5;124mOpened database successfully\u001b[39m\u001b[38;5;124m\"\u001b[39m)\n\u001b[0;32m----> 4\u001b[0m \u001b[43mconn\u001b[49m\u001b[38;5;241;43m.\u001b[39;49m\u001b[43mexecute\u001b[49m\u001b[43m(\u001b[49m\u001b[38;5;124;43m'''\u001b[39;49m\u001b[38;5;124;43mCREATE TABLE IF NOT EXISTS thursday\u001b[39;49m\n\u001b[1;32m      5\u001b[0m \u001b[38;5;124;43m (ID INT PRIMARY KEY     NOT NULL,\u001b[39;49m\n\u001b[1;32m      6\u001b[0m \u001b[38;5;124;43m BAND           TEXT    NOT NULL,\u001b[39;49m\n\u001b[1;32m      7\u001b[0m \u001b[38;5;124;43m HOMETOWN            TEXT     NOT NULL,\u001b[39;49m\n\u001b[1;32m      8\u001b[0m \u001b[38;5;124;43m Year        INT \u001b[39;49m\n\u001b[1;32m      9\u001b[0m \u001b[38;5;124;43m );\u001b[39;49m\u001b[38;5;124;43m'''\u001b[39;49m\u001b[43m)\u001b[49m\n\u001b[1;32m     10\u001b[0m \u001b[38;5;28mprint\u001b[39m(\u001b[38;5;124m\"\u001b[39m\u001b[38;5;124mTable created successfully\u001b[39m\u001b[38;5;124m\"\u001b[39m)\n",
      "\u001b[0;31mOperationalError\u001b[0m: database is locked"
     ]
    }
   ],
   "source": [
    "import sqlite3\n",
    "conn = sqlite3.connect('challenge.db')\n",
    "print(\"Opened database successfully\")\n",
    "conn.execute('''CREATE TABLE IF NOT EXISTS THURSDAY\n",
    " (ID INT PRIMARY KEY     NOT NULL,\n",
    " BAND           TEXT    NOT NULL,\n",
    " HOMETOWN            TEXT     NOT NULL,\n",
    " Year        INT \n",
    " );''')\n",
    "print(\"Table created successfully\")\n"
   ]
  },
  {
   "cell_type": "code",
   "execution_count": 3,
   "id": "1114ea97-7395-4f2c-be8c-8f3b50fbaaa8",
   "metadata": {},
   "outputs": [
    {
     "data": {
      "text/plain": [
       "<sqlite3.Cursor at 0x7fdb303360c0>"
      ]
     },
     "execution_count": 3,
     "metadata": {},
     "output_type": "execute_result"
    }
   ],
   "source": [
    "conn.execute(\"INSERT INTO THURSDAY (ID,BAND,HOMETOWN, YEAR) VALUES (1, 'The Beatles', 'Liverpool, England', 1960 )\")\n",
    "conn.execute(\"INSERT INTO THURSDAY (ID,BAND,HOMETOWN, YEAR) VALUES (2, 'Guns and Roses',  'Los Angeles, USA', 1985 )\")\n",
    "conn.execute(\"INSERT INTO THURSDAY (ID,BAND,HOMETOWN, YEAR) VALUES (3, 'Agnee', 'Pune, India', 2007 )\")"
   ]
  },
  {
   "cell_type": "code",
   "execution_count": 5,
   "id": "7497140a-e17c-4355-b9ff-2de5150a6722",
   "metadata": {},
   "outputs": [
    {
     "ename": "OperationalError",
     "evalue": "no such table: THURSDAY",
     "output_type": "error",
     "traceback": [
      "\u001b[0;31m---------------------------------------------------------------------------\u001b[0m",
      "\u001b[0;31mOperationalError\u001b[0m                          Traceback (most recent call last)",
      "Cell \u001b[0;32mIn [5], line 1\u001b[0m\n\u001b[0;32m----> 1\u001b[0m \u001b[43mconn\u001b[49m\u001b[38;5;241;43m.\u001b[39;49m\u001b[43mexecute\u001b[49m\u001b[43m(\u001b[49m\u001b[38;5;124;43m\"\u001b[39;49m\u001b[38;5;124;43mSelect * From THURSDAY\u001b[39;49m\u001b[38;5;124;43m\"\u001b[39;49m\u001b[43m)\u001b[49m\n",
      "\u001b[0;31mOperationalError\u001b[0m: no such table: THURSDAY"
     ]
    }
   ],
   "source": [
    "conn.execute(\"Select * From THURSDAY\")"
   ]
  },
  {
   "cell_type": "code",
   "execution_count": null,
   "id": "ed5609d4-662f-4e21-932b-e00272f467c7",
   "metadata": {},
   "outputs": [],
   "source": [
    "conn.close()"
   ]
  }
 ],
 "metadata": {
  "kernelspec": {
   "display_name": "Python 3 (ipykernel)",
   "language": "python",
   "name": "python3"
  },
  "language_info": {
   "codemirror_mode": {
    "name": "ipython",
    "version": 3
   },
   "file_extension": ".py",
   "mimetype": "text/x-python",
   "name": "python",
   "nbconvert_exporter": "python",
   "pygments_lexer": "ipython3",
   "version": "3.10.6"
  }
 },
 "nbformat": 4,
 "nbformat_minor": 5
}
