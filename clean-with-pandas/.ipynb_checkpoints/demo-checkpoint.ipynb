{
 "cells": [
  {
   "cell_type": "code",
   "execution_count": 1,
   "id": "c75e479d-7dd5-4023-9982-d237b062a67a",
   "metadata": {},
   "outputs": [],
   "source": [
    "#!/usr/bin/python3\n",
    "\n",
    "#import pypyodbc\n",
    "#import urllib\n",
    "import urllib.request as urllib\n",
    "import requests\n",
    "import pickle\n",
    "import numpy as np\n",
    "import pandas as pd\n",
    "#import csv\n",
    "#import os \n",
    "from datetime import datetime\n",
    "\n",
    "url=\"https://www.alphavantage.co/query?function=FX_INTRADAY&from_symbol=GBP&to_symbol=USD&interval=1min&outputsize=full&apikey=QRNX49EZGZKYUACF&datatype=csv\"\n",
    "response = requests.get(url)\n"
   ]
  },
  {
   "cell_type": "code",
   "execution_count": 2,
   "id": "f52e8bce-6339-4d16-b5f8-53091ca948ac",
   "metadata": {},
   "outputs": [
    {
     "data": {
      "text/plain": [
       "bytes"
      ]
     },
     "execution_count": 2,
     "metadata": {},
     "output_type": "execute_result"
    }
   ],
   "source": [
    "type(response.content)\n"
   ]
  },
  {
   "cell_type": "code",
   "execution_count": 3,
   "id": "77f35abe-d9cf-451e-ac0d-d47d23d9fb85",
   "metadata": {},
   "outputs": [],
   "source": [
    "from io import BytesIO\n",
    "\n",
    "df = pd.read_csv(BytesIO(response.content))"
   ]
  },
  {
   "cell_type": "code",
   "execution_count": 4,
   "id": "3d8ecff9-982e-4362-af8e-9b11d6ba27b7",
   "metadata": {},
   "outputs": [
    {
     "data": {
      "text/html": [
       "<div>\n",
       "<style scoped>\n",
       "    .dataframe tbody tr th:only-of-type {\n",
       "        vertical-align: middle;\n",
       "    }\n",
       "\n",
       "    .dataframe tbody tr th {\n",
       "        vertical-align: top;\n",
       "    }\n",
       "\n",
       "    .dataframe thead th {\n",
       "        text-align: right;\n",
       "    }\n",
       "</style>\n",
       "<table border=\"1\" class=\"dataframe\">\n",
       "  <thead>\n",
       "    <tr style=\"text-align: right;\">\n",
       "      <th></th>\n",
       "      <th>timestamp</th>\n",
       "      <th>open</th>\n",
       "      <th>high</th>\n",
       "      <th>low</th>\n",
       "      <th>close</th>\n",
       "      <th>Currency</th>\n",
       "      <th>TimeFrame</th>\n",
       "    </tr>\n",
       "  </thead>\n",
       "  <tbody>\n",
       "    <tr>\n",
       "      <th>0</th>\n",
       "      <td>2022-11-02 08:58:00</td>\n",
       "      <td>1.15110</td>\n",
       "      <td>1.15124</td>\n",
       "      <td>1.15076</td>\n",
       "      <td>1.15111</td>\n",
       "      <td>GBPUSD</td>\n",
       "      <td>1Min</td>\n",
       "    </tr>\n",
       "    <tr>\n",
       "      <th>1</th>\n",
       "      <td>2022-11-02 08:57:00</td>\n",
       "      <td>1.15110</td>\n",
       "      <td>1.15120</td>\n",
       "      <td>1.15069</td>\n",
       "      <td>1.15109</td>\n",
       "      <td>GBPUSD</td>\n",
       "      <td>1Min</td>\n",
       "    </tr>\n",
       "    <tr>\n",
       "      <th>2</th>\n",
       "      <td>2022-11-02 08:56:00</td>\n",
       "      <td>1.15148</td>\n",
       "      <td>1.15154</td>\n",
       "      <td>1.15097</td>\n",
       "      <td>1.15114</td>\n",
       "      <td>GBPUSD</td>\n",
       "      <td>1Min</td>\n",
       "    </tr>\n",
       "    <tr>\n",
       "      <th>3</th>\n",
       "      <td>2022-11-02 08:55:00</td>\n",
       "      <td>1.15102</td>\n",
       "      <td>1.15165</td>\n",
       "      <td>1.15080</td>\n",
       "      <td>1.15140</td>\n",
       "      <td>GBPUSD</td>\n",
       "      <td>1Min</td>\n",
       "    </tr>\n",
       "    <tr>\n",
       "      <th>4</th>\n",
       "      <td>2022-11-02 08:54:00</td>\n",
       "      <td>1.15138</td>\n",
       "      <td>1.15148</td>\n",
       "      <td>1.15079</td>\n",
       "      <td>1.15111</td>\n",
       "      <td>GBPUSD</td>\n",
       "      <td>1Min</td>\n",
       "    </tr>\n",
       "    <tr>\n",
       "      <th>...</th>\n",
       "      <td>...</td>\n",
       "      <td>...</td>\n",
       "      <td>...</td>\n",
       "      <td>...</td>\n",
       "      <td>...</td>\n",
       "      <td>...</td>\n",
       "      <td>...</td>\n",
       "    </tr>\n",
       "    <tr>\n",
       "      <th>1434</th>\n",
       "      <td>2022-11-01 09:04:00</td>\n",
       "      <td>1.15229</td>\n",
       "      <td>1.15236</td>\n",
       "      <td>1.15197</td>\n",
       "      <td>1.15233</td>\n",
       "      <td>GBPUSD</td>\n",
       "      <td>1Min</td>\n",
       "    </tr>\n",
       "    <tr>\n",
       "      <th>1435</th>\n",
       "      <td>2022-11-01 09:03:00</td>\n",
       "      <td>1.15204</td>\n",
       "      <td>1.15232</td>\n",
       "      <td>1.15168</td>\n",
       "      <td>1.15226</td>\n",
       "      <td>GBPUSD</td>\n",
       "      <td>1Min</td>\n",
       "    </tr>\n",
       "    <tr>\n",
       "      <th>1436</th>\n",
       "      <td>2022-11-01 09:02:00</td>\n",
       "      <td>1.15236</td>\n",
       "      <td>1.15242</td>\n",
       "      <td>1.15158</td>\n",
       "      <td>1.15198</td>\n",
       "      <td>GBPUSD</td>\n",
       "      <td>1Min</td>\n",
       "    </tr>\n",
       "    <tr>\n",
       "      <th>1437</th>\n",
       "      <td>2022-11-01 09:01:00</td>\n",
       "      <td>1.15228</td>\n",
       "      <td>1.15259</td>\n",
       "      <td>1.15203</td>\n",
       "      <td>1.15236</td>\n",
       "      <td>GBPUSD</td>\n",
       "      <td>1Min</td>\n",
       "    </tr>\n",
       "    <tr>\n",
       "      <th>1438</th>\n",
       "      <td>2022-11-01 09:00:00</td>\n",
       "      <td>1.15290</td>\n",
       "      <td>1.15294</td>\n",
       "      <td>1.15211</td>\n",
       "      <td>1.15228</td>\n",
       "      <td>GBPUSD</td>\n",
       "      <td>1Min</td>\n",
       "    </tr>\n",
       "  </tbody>\n",
       "</table>\n",
       "<p>1439 rows × 7 columns</p>\n",
       "</div>"
      ],
      "text/plain": [
       "                timestamp     open     high      low    close Currency  \\\n",
       "0     2022-11-02 08:58:00  1.15110  1.15124  1.15076  1.15111   GBPUSD   \n",
       "1     2022-11-02 08:57:00  1.15110  1.15120  1.15069  1.15109   GBPUSD   \n",
       "2     2022-11-02 08:56:00  1.15148  1.15154  1.15097  1.15114   GBPUSD   \n",
       "3     2022-11-02 08:55:00  1.15102  1.15165  1.15080  1.15140   GBPUSD   \n",
       "4     2022-11-02 08:54:00  1.15138  1.15148  1.15079  1.15111   GBPUSD   \n",
       "...                   ...      ...      ...      ...      ...      ...   \n",
       "1434  2022-11-01 09:04:00  1.15229  1.15236  1.15197  1.15233   GBPUSD   \n",
       "1435  2022-11-01 09:03:00  1.15204  1.15232  1.15168  1.15226   GBPUSD   \n",
       "1436  2022-11-01 09:02:00  1.15236  1.15242  1.15158  1.15198   GBPUSD   \n",
       "1437  2022-11-01 09:01:00  1.15228  1.15259  1.15203  1.15236   GBPUSD   \n",
       "1438  2022-11-01 09:00:00  1.15290  1.15294  1.15211  1.15228   GBPUSD   \n",
       "\n",
       "     TimeFrame  \n",
       "0         1Min  \n",
       "1         1Min  \n",
       "2         1Min  \n",
       "3         1Min  \n",
       "4         1Min  \n",
       "...        ...  \n",
       "1434      1Min  \n",
       "1435      1Min  \n",
       "1436      1Min  \n",
       "1437      1Min  \n",
       "1438      1Min  \n",
       "\n",
       "[1439 rows x 7 columns]"
      ]
     },
     "execution_count": 4,
     "metadata": {},
     "output_type": "execute_result"
    }
   ],
   "source": [
    "df\n",
    "df=df.assign(Currency= \"GBPUSD\")\n",
    "df\n",
    "df=df.assign(TimeFrame= \"1Min\")\n",
    "df\n"
   ]
  },
  {
   "cell_type": "code",
   "execution_count": 7,
   "id": "85322cef-739b-468c-8993-ce2810f6b713",
   "metadata": {},
   "outputs": [
    {
     "data": {
      "text/plain": [
       "requests.structures.CaseInsensitiveDict"
      ]
     },
     "execution_count": 7,
     "metadata": {},
     "output_type": "execute_result"
    }
   ],
   "source": [
    "type(response.headers)"
   ]
  },
  {
   "cell_type": "code",
   "execution_count": 6,
   "id": "532b74ce-a0c4-48ee-a5ba-9b53d83484f6",
   "metadata": {},
   "outputs": [
    {
     "data": {
      "text/plain": [
       "requests.models.Response"
      ]
     },
     "execution_count": 6,
     "metadata": {},
     "output_type": "execute_result"
    }
   ],
   "source": [
    "type(response)"
   ]
  },
  {
   "cell_type": "code",
   "execution_count": 9,
   "id": "e7760cc1-f91b-435c-87a2-24a5aa33a2d5",
   "metadata": {},
   "outputs": [
    {
     "data": {
      "text/plain": [
       "{'Date': 'Wed, 02 Nov 2022 08:59:18 GMT', 'Content-Type': 'application/x-download', 'Transfer-Encoding': 'chunked', 'Connection': 'keep-alive', 'X-Frame-Options': 'SAMEORIGIN', 'Content-Disposition': 'attachment; filename=fx_intraday_1min_GBP_USD.csv', 'Vary': 'Cookie', 'Allow': 'GET, HEAD, OPTIONS', 'Via': '1.1 vegur', 'CF-Cache-Status': 'DYNAMIC', 'Server-Timing': 'cf-q-config;dur=4.9999944167212e-06', 'Server': 'cloudflare', 'CF-RAY': '763bac61be5932d9-EWR'}"
      ]
     },
     "execution_count": 9,
     "metadata": {},
     "output_type": "execute_result"
    }
   ],
   "source": [
    "response.headers"
   ]
  },
  {
   "cell_type": "code",
   "execution_count": 1,
   "id": "36cea14e-f681-4560-8e7e-44e59565b809",
   "metadata": {},
   "outputs": [
    {
     "ename": "NameError",
     "evalue": "name 'df' is not defined",
     "output_type": "error",
     "traceback": [
      "\u001b[0;31m---------------------------------------------------------------------------\u001b[0m",
      "\u001b[0;31mNameError\u001b[0m                                 Traceback (most recent call last)",
      "Cell \u001b[0;32mIn [1], line 1\u001b[0m\n\u001b[0;32m----> 1\u001b[0m df[[\u001b[38;5;124m'\u001b[39m\u001b[38;5;124mDate\u001b[39m\u001b[38;5;124m'\u001b[39m, \u001b[38;5;124m'\u001b[39m\u001b[38;5;124mTime\u001b[39m\u001b[38;5;124m'\u001b[39m]] \u001b[38;5;241m=\u001b[39m \u001b[43mdf\u001b[49m[\u001b[38;5;124m'\u001b[39m\u001b[38;5;124mtimestamp\u001b[39m\u001b[38;5;124m'\u001b[39m]\u001b[38;5;241m.\u001b[39mstr\u001b[38;5;241m.\u001b[39msplit(\u001b[38;5;124m'\u001b[39m\u001b[38;5;124m \u001b[39m\u001b[38;5;124m'\u001b[39m, expand\u001b[38;5;241m=\u001b[39m\u001b[38;5;28;01mTrue\u001b[39;00m)\n",
      "\u001b[0;31mNameError\u001b[0m: name 'df' is not defined"
     ]
    }
   ],
   "source": [
    "df[['Date', 'Time']] = df['timestamp'].str.split(' ', expand=True)"
   ]
  },
  {
   "cell_type": "code",
   "execution_count": null,
   "id": "8276fff9-a183-49dd-80ae-e611e975fa8a",
   "metadata": {},
   "outputs": [],
   "source": []
  }
 ],
 "metadata": {
  "kernelspec": {
   "display_name": "Python 3 (ipykernel)",
   "language": "python",
   "name": "python3"
  },
  "language_info": {
   "codemirror_mode": {
    "name": "ipython",
    "version": 3
   },
   "file_extension": ".py",
   "mimetype": "text/x-python",
   "name": "python",
   "nbconvert_exporter": "python",
   "pygments_lexer": "ipython3",
   "version": "3.10.6"
  }
 },
 "nbformat": 4,
 "nbformat_minor": 5
}
