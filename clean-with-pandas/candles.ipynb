{
 "cells": [
  {
   "cell_type": "code",
   "execution_count": 1,
   "id": "74589c65-c29d-4c95-8a1c-b24ada06599a",
   "metadata": {},
   "outputs": [
    {
     "data": {
      "image/png": "[encoded data removed]",
      "text/plain": [
       "<Figure size 640x480 with 1 Axes>"
      ]
     },
     "metadata": {},
     "output_type": "display_data"
    }
   ],
   "source": [
    "import pandas as pd\n",
    "import matplotlib.pyplot as plt\n",
    "\n",
    "# DataFrame to represent opening , closing, high\n",
    "# and low prices of a stock for a week\n",
    "stock_prices = pd.DataFrame({'open': [36, 56, 45, 29, 65, 66, 67],\n",
    "\t\t\t\t\t\t\t'close': [29, 72, 11, 4, 23, 68, 45],\n",
    "\t\t\t\t\t\t\t'high': [42, 73, 61, 62, 73, 56, 55],\n",
    "\t\t\t\t\t\t\t'low': [22, 11, 10, 2, 13, 24, 25]},\n",
    "\t\t\t\t\t\t\tindex=pd.date_range(\n",
    "\t\t\t\t\t\t\t\"2021-11-10\", periods=7, freq=\"d\"))\n",
    "\n",
    "\n",
    "plt.figure()\n",
    "\n",
    "# \"up\" dataframe will store the stock_prices\n",
    "# when the closing stock price is greater\n",
    "# than or equal to the opening stock prices\n",
    "up = stock_prices[stock_prices.close >= stock_prices.open]\n",
    "\n",
    "# \"down\" dataframe will store the stock_prices\n",
    "# when the closing stock price is\n",
    "# lesser than the opening stock prices\n",
    "down = stock_prices[stock_prices.close < stock_prices.open]\n",
    "\n",
    "# When the stock prices have decreased, then it\n",
    "# will be represented by blue color candlestick\n",
    "col1 = 'blue'\n",
    "\n",
    "# When the stock prices have increased, then it\n",
    "# will be represented by green color candlestick\n",
    "col2 = 'green'\n",
    "\n",
    "# Setting width of candlestick elements\n",
    "width = .3\n",
    "width2 = .03\n",
    "\n",
    "# Plotting up prices of the stock\n",
    "plt.bar(up.index, up.close-up.open, width, bottom=up.open, color=col1)\n",
    "plt.bar(up.index, up.high-up.close, width2, bottom=up.close, color=col1)\n",
    "plt.bar(up.index, up.low-up.open, width2, bottom=up.open, color=col1)\n",
    "\n",
    "# Plotting down prices of the stock\n",
    "plt.bar(down.index, down.close-down.open, width, bottom=down.open, color=col2)\n",
    "plt.bar(down.index, down.high-down.open, width2, bottom=down.open, color=col2)\n",
    "plt.bar(down.index, down.low-down.close, width2, bottom=down.close, color=col2)\n",
    "\n",
    "# rotating the x-axis tick labels at 30degree\n",
    "# towards right\n",
    "plt.xticks(rotation=30, ha='right')\n",
    "\n",
    "# displaying candlestick chart of stock data\n",
    "# of a week\n",
    "plt.show()\n"
   ]
  },
  {
   "cell_type": "code",
   "execution_count": null,
   "id": "d6ccf965-71e5-44ea-9fca-d0c9ec7743b1",
   "metadata": {},
   "outputs": [],
   "source": []
  }
 ],
 "metadata": {
  "kernelspec": {
   "display_name": "Python 3 (ipykernel)",
   "language": "python",
   "name": "python3"
  },
  "language_info": {
   "codemirror_mode": {
    "name": "ipython",
    "version": 3
   },
   "file_extension": ".py",
   "mimetype": "text/x-python",
   "name": "python",
   "nbconvert_exporter": "python",
   "pygments_lexer": "ipython3",
   "version": "3.10.6"
  }
 },
 "nbformat": 4,
 "nbformat_minor": 5
}
