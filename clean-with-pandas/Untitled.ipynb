{
 "cells": [
  {
   "cell_type": "code",
   "execution_count": 5,
   "id": "a58029bd-5557-4ced-bad5-ac47be4a7275",
   "metadata": {},
   "outputs": [
    {
     "name": "stdout",
     "output_type": "stream",
     "text": [
      "Opened database successfully\n",
      "Table created successfully\n"
     ]
    }
   ],
   "source": [
    "import sqlite3\n",
    "conn = sqlite3.connect('challenge3.db')\n",
    "print(\"Opened database successfully\")\n",
    "conn.execute('''CREATE TABLE IF NOT EXISTS THURSDAY\n",
    " (ID INT PRIMARY KEY     NOT NULL,\n",
    " BAND           TEXT    NOT NULL,\n",
    " HOMETOWN            TEXT     NOT NULL,\n",
    " Year        INT \n",
    " );''')\n",
    "print(\"Table created successfully\")\n"
   ]
  },
  {
   "cell_type": "code",
   "execution_count": 7,
   "id": "1114ea97-7395-4f2c-be8c-8f3b50fbaaa8",
   "metadata": {},
   "outputs": [
    {
     "ename": "IntegrityError",
     "evalue": "UNIQUE constraint failed: THURSDAY.ID",
     "output_type": "error",
     "traceback": [
      "\u001b[0;31m---------------------------------------------------------------------------\u001b[0m",
      "\u001b[0;31mIntegrityError\u001b[0m                            Traceback (most recent call last)",
      "Cell \u001b[0;32mIn [7], line 1\u001b[0m\n\u001b[0;32m----> 1\u001b[0m \u001b[43mconn\u001b[49m\u001b[38;5;241;43m.\u001b[39;49m\u001b[43mexecute\u001b[49m\u001b[43m(\u001b[49m\u001b[38;5;124;43m\"\u001b[39;49m\u001b[38;5;124;43mINSERT INTO THURSDAY (ID,BAND,HOMETOWN, YEAR) VALUES (1, \u001b[39;49m\u001b[38;5;124;43m'\u001b[39;49m\u001b[38;5;124;43mThe Beatles\u001b[39;49m\u001b[38;5;124;43m'\u001b[39;49m\u001b[38;5;124;43m, \u001b[39;49m\u001b[38;5;124;43m'\u001b[39;49m\u001b[38;5;124;43mLiverpool, England\u001b[39;49m\u001b[38;5;124;43m'\u001b[39;49m\u001b[38;5;124;43m, 1960 );\u001b[39;49m\u001b[38;5;124;43m\"\u001b[39;49m\u001b[43m)\u001b[49m\n\u001b[1;32m      2\u001b[0m conn\u001b[38;5;241m.\u001b[39mexecute(\u001b[38;5;124m\"\u001b[39m\u001b[38;5;124mINSERT INTO THURSDAY (ID,BAND,HOMETOWN, YEAR) VALUES (2, \u001b[39m\u001b[38;5;124m'\u001b[39m\u001b[38;5;124mGuns and Roses\u001b[39m\u001b[38;5;124m'\u001b[39m\u001b[38;5;124m,  \u001b[39m\u001b[38;5;124m'\u001b[39m\u001b[38;5;124mLos Angeles, USA\u001b[39m\u001b[38;5;124m'\u001b[39m\u001b[38;5;124m, 1985 );\u001b[39m\u001b[38;5;124m\"\u001b[39m)\n\u001b[1;32m      3\u001b[0m conn\u001b[38;5;241m.\u001b[39mexecute(\u001b[38;5;124m\"\u001b[39m\u001b[38;5;124mINSERT INTO THURSDAY (ID,BAND,HOMETOWN, YEAR) VALUES (3, \u001b[39m\u001b[38;5;124m'\u001b[39m\u001b[38;5;124mAgnee\u001b[39m\u001b[38;5;124m'\u001b[39m\u001b[38;5;124m, \u001b[39m\u001b[38;5;124m'\u001b[39m\u001b[38;5;124mPune, India\u001b[39m\u001b[38;5;124m'\u001b[39m\u001b[38;5;124m, 2007 );\u001b[39m\u001b[38;5;124m\"\u001b[39m)\n",
      "\u001b[0;31mIntegrityError\u001b[0m: UNIQUE constraint failed: THURSDAY.ID"
     ]
    }
   ],
   "source": [
    "conn.execute(\"INSERT INTO THURSDAY (ID,BAND,HOMETOWN,YEAR) VALUES (1, 'The Beatles', 'Liverpool, England', 1960 );\")\n",
    "conn.execute(\"INSERT INTO THURSDAY (ID,BAND,HOMETOWN,YEAR) VALUES (2, 'Guns and Roses',  'Los Angeles, USA', 1985 );\")\n",
    "conn.execute(\"INSERT INTO THURSDAY (ID,BAND,HOMETOWN,YEAR) VALUES (3, 'Agnee', 'Pune, India', 2007 );\")"
   ]
  },
  {
   "cell_type": "code",
   "execution_count": 10,
   "id": "7497140a-e17c-4355-b9ff-2de5150a6722",
   "metadata": {},
   "outputs": [
    {
     "data": {
      "text/plain": [
       "<sqlite3.Cursor at 0x7f1455341dc0>"
      ]
     },
     "execution_count": 10,
     "metadata": {},
     "output_type": "execute_result"
    }
   ],
   "source": [
    "chris=conn.execute(\"Select * From THURSDAY;\")\n",
    "chris"
   ]
  },
  {
   "cell_type": "code",
   "execution_count": 4,
   "id": "ed5609d4-662f-4e21-932b-e00272f467c7",
   "metadata": {},
   "outputs": [],
   "source": [
    "conn.close()"
   ]
  }
 ],
 "metadata": {
  "kernelspec": {
   "display_name": "Python 3 (ipykernel)",
   "language": "python",
   "name": "python3"
  },
  "language_info": {
   "codemirror_mode": {
    "name": "ipython",
    "version": 3
   },
   "file_extension": ".py",
   "mimetype": "text/x-python",
   "name": "python",
   "nbconvert_exporter": "python",
   "pygments_lexer": "ipython3",
   "version": "3.10.6"
  }
 },
 "nbformat": 4,
 "nbformat_minor": 5
}
