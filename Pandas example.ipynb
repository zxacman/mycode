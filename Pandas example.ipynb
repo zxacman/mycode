{
 "cells": [
  {
   "cell_type": "code",
   "execution_count": 2,
   "id": "37aa72c0-71ab-4810-bb26-9645c9b7ec5b",
   "metadata": {},
   "outputs": [],
   "source": [
    "heroes= {\n",
    "   \"name\": [\"Wonder Woman\", \"Batman\", \"Superman\"],\n",
    "   \"alterego\": [\"Diana Prince\", \"Bruce Wayne\", \"Clark Kent\"],\n",
    "   \"power\": [\"lasso of truth\", \"money\", \"super strength\"]\n",
    "}"
   ]
  },
  {
   "cell_type": "code",
   "execution_count": 3,
   "id": "fc4b99c7-ad2a-4c9d-b624-c79edc2ab1ec",
   "metadata": {},
   "outputs": [
    {
     "data": {
      "text/html": [
       "<div>\n",
       "<style scoped>\n",
       "    .dataframe tbody tr th:only-of-type {\n",
       "        vertical-align: middle;\n",
       "    }\n",
       "\n",
       "    .dataframe tbody tr th {\n",
       "        vertical-align: top;\n",
       "    }\n",
       "\n",
       "    .dataframe thead th {\n",
       "        text-align: right;\n",
       "    }\n",
       "</style>\n",
       "<table border=\"1\" class=\"dataframe\">\n",
       "  <thead>\n",
       "    <tr style=\"text-align: right;\">\n",
       "      <th></th>\n",
       "      <th>name</th>\n",
       "      <th>alterego</th>\n",
       "      <th>power</th>\n",
       "    </tr>\n",
       "  </thead>\n",
       "  <tbody>\n",
       "    <tr>\n",
       "      <th>0</th>\n",
       "      <td>Wonder Woman</td>\n",
       "      <td>Diana Prince</td>\n",
       "      <td>lasso of truth</td>\n",
       "    </tr>\n",
       "    <tr>\n",
       "      <th>1</th>\n",
       "      <td>Batman</td>\n",
       "      <td>Bruce Wayne</td>\n",
       "      <td>money</td>\n",
       "    </tr>\n",
       "    <tr>\n",
       "      <th>2</th>\n",
       "      <td>Superman</td>\n",
       "      <td>Clark Kent</td>\n",
       "      <td>super strength</td>\n",
       "    </tr>\n",
       "  </tbody>\n",
       "</table>\n",
       "</div>"
      ],
      "text/plain": [
       "           name      alterego           power\n",
       "0  Wonder Woman  Diana Prince  lasso of truth\n",
       "1        Batman   Bruce Wayne           money\n",
       "2      Superman    Clark Kent  super strength"
      ]
     },
     "execution_count": 3,
     "metadata": {},
     "output_type": "execute_result"
    }
   ],
   "source": [
    "import pandas as pd\n",
    "herodf= pd.DataFrame(heroes)\n",
    "herodf"
   ]
  },
  {
   "cell_type": "code",
   "execution_count": 6,
   "id": "5dcf5b84-bc94-4f5c-a5be-200cc0374dc8",
   "metadata": {},
   "outputs": [
    {
     "data": {
      "text/plain": [
       "0    lasso of truth\n",
       "1             money\n",
       "2    super strength\n",
       "Name: power, dtype: object"
      ]
     },
     "execution_count": 6,
     "metadata": {},
     "output_type": "execute_result"
    }
   ],
   "source": [
    "herodf[\"power\"]\n"
   ]
  },
  {
   "cell_type": "code",
   "execution_count": 7,
   "id": "b29be1ca-29a3-4e04-b5a6-a5ac88fd2105",
   "metadata": {},
   "outputs": [
    {
     "data": {
      "text/html": [
       "<div>\n",
       "<style scoped>\n",
       "    .dataframe tbody tr th:only-of-type {\n",
       "        vertical-align: middle;\n",
       "    }\n",
       "\n",
       "    .dataframe tbody tr th {\n",
       "        vertical-align: top;\n",
       "    }\n",
       "\n",
       "    .dataframe thead th {\n",
       "        text-align: right;\n",
       "    }\n",
       "</style>\n",
       "<table border=\"1\" class=\"dataframe\">\n",
       "  <thead>\n",
       "    <tr style=\"text-align: right;\">\n",
       "      <th></th>\n",
       "      <th>name</th>\n",
       "      <th>alterego</th>\n",
       "    </tr>\n",
       "  </thead>\n",
       "  <tbody>\n",
       "    <tr>\n",
       "      <th>0</th>\n",
       "      <td>Wonder Woman</td>\n",
       "      <td>Diana Prince</td>\n",
       "    </tr>\n",
       "    <tr>\n",
       "      <th>1</th>\n",
       "      <td>Batman</td>\n",
       "      <td>Bruce Wayne</td>\n",
       "    </tr>\n",
       "    <tr>\n",
       "      <th>2</th>\n",
       "      <td>Superman</td>\n",
       "      <td>Clark Kent</td>\n",
       "    </tr>\n",
       "  </tbody>\n",
       "</table>\n",
       "</div>"
      ],
      "text/plain": [
       "           name      alterego\n",
       "0  Wonder Woman  Diana Prince\n",
       "1        Batman   Bruce Wayne\n",
       "2      Superman    Clark Kent"
      ]
     },
     "execution_count": 7,
     "metadata": {},
     "output_type": "execute_result"
    }
   ],
   "source": [
    "herodf[[ \"name\", \"alterego\"]]\n",
    "       "
   ]
  },
  {
   "cell_type": "code",
   "execution_count": 9,
   "id": "9106cead-2177-47a3-8da3-fdfb512ca0d6",
   "metadata": {},
   "outputs": [
    {
     "data": {
      "text/html": [
       "<div>\n",
       "<style scoped>\n",
       "    .dataframe tbody tr th:only-of-type {\n",
       "        vertical-align: middle;\n",
       "    }\n",
       "\n",
       "    .dataframe tbody tr th {\n",
       "        vertical-align: top;\n",
       "    }\n",
       "\n",
       "    .dataframe thead th {\n",
       "        text-align: right;\n",
       "    }\n",
       "</style>\n",
       "<table border=\"1\" class=\"dataframe\">\n",
       "  <thead>\n",
       "    <tr style=\"text-align: right;\">\n",
       "      <th></th>\n",
       "      <th>name</th>\n",
       "      <th>alterego</th>\n",
       "      <th>power</th>\n",
       "    </tr>\n",
       "  </thead>\n",
       "  <tbody>\n",
       "    <tr>\n",
       "      <th>1</th>\n",
       "      <td>Batman</td>\n",
       "      <td>Bruce Wayne</td>\n",
       "      <td>money</td>\n",
       "    </tr>\n",
       "    <tr>\n",
       "      <th>2</th>\n",
       "      <td>Superman</td>\n",
       "      <td>Clark Kent</td>\n",
       "      <td>super strength</td>\n",
       "    </tr>\n",
       "  </tbody>\n",
       "</table>\n",
       "</div>"
      ],
      "text/plain": [
       "       name     alterego           power\n",
       "1    Batman  Bruce Wayne           money\n",
       "2  Superman   Clark Kent  super strength"
      ]
     },
     "execution_count": 9,
     "metadata": {},
     "output_type": "execute_result"
    }
   ],
   "source": [
    "herodf.iloc[[1,2]]\n"
   ]
  },
  {
   "cell_type": "code",
   "execution_count": 10,
   "id": "13de9f9c-145d-4764-b1d4-b24006be5bc7",
   "metadata": {},
   "outputs": [
    {
     "data": {
      "text/plain": [
       "1             money\n",
       "2    super strength\n",
       "Name: power, dtype: object"
      ]
     },
     "execution_count": 10,
     "metadata": {},
     "output_type": "execute_result"
    }
   ],
   "source": [
    "herodf.iloc[[1,2],2]"
   ]
  },
  {
   "cell_type": "code",
   "execution_count": 14,
   "id": "c803c12f-37e0-4414-97c5-db66eb341c15",
   "metadata": {},
   "outputs": [
    {
     "data": {
      "text/plain": [
       "0    Diana Prince\n",
       "1     Bruce Wayne\n",
       "Name: alterego, dtype: object"
      ]
     },
     "execution_count": 14,
     "metadata": {},
     "output_type": "execute_result"
    }
   ],
   "source": [
    "herodf.iloc[[0,1],1]"
   ]
  },
  {
   "cell_type": "code",
   "execution_count": 15,
   "id": "39fdd4a1-0460-45c7-878b-d09f1ecf29e4",
   "metadata": {},
   "outputs": [],
   "source": [
    "herodf2=herodf.set_index(\"name\")"
   ]
  },
  {
   "cell_type": "code",
   "execution_count": 17,
   "id": "ac108305-52ab-4b3e-a8cb-93277b85d96a",
   "metadata": {},
   "outputs": [
    {
     "data": {
      "text/plain": [
       "name\n",
       "Wonder Woman    lasso of truth\n",
       "Superman        super strength\n",
       "Name: power, dtype: object"
      ]
     },
     "execution_count": 17,
     "metadata": {},
     "output_type": "execute_result"
    }
   ],
   "source": [
    "herodf2.loc[[\"Wonder Woman\", \"Superman\"],\"power\"]"
   ]
  },
  {
   "cell_type": "code",
   "execution_count": null,
   "id": "923ebc8f-ba0f-4885-ace3-9b3d3357f00c",
   "metadata": {},
   "outputs": [],
   "source": []
  }
 ],
 "metadata": {
  "kernelspec": {
   "display_name": "Python 3 (ipykernel)",
   "language": "python",
   "name": "python3"
  },
  "language_info": {
   "codemirror_mode": {
    "name": "ipython",
    "version": 3
   },
   "file_extension": ".py",
   "mimetype": "text/x-python",
   "name": "python",
   "nbconvert_exporter": "python",
   "pygments_lexer": "ipython3",
   "version": "3.10.6"
  }
 },
 "nbformat": 4,
 "nbformat_minor": 5
}
