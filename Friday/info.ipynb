{
 "cells": [
  {
   "cell_type": "code",
   "execution_count": null,
   "id": "29e67748-6239-4389-a15c-76d8bdb48f1f",
   "metadata": {},
   "outputs": [],
   "source": [
    "WANT MORE TIME WITH TMUX/JUPYTER NOTEBOOK?\n",
    "        Send an email to support@alta3.com\n",
    "        Say that you are in Chad's Python Data Science class and you'd like a new environment for a few days.\n",
    "from Chad Feeser to everyone:    1:53 PM\n",
    "https://colab.research.google.com/\n",
    "from Chad Feeser to everyone:    2:42 PM\n",
    "import requests \n",
    "URL= \"http://api.open-notify.org/iss-now.json\"\n",
    "pythondata= requests.get(URL).json()\n",
    "lat= pythondata[\"iss_position\"][\"latitude\"]"
   ]
  }
 ],
 "metadata": {
  "kernelspec": {
   "display_name": "Python 3 (ipykernel)",
   "language": "python",
   "name": "python3"
  },
  "language_info": {
   "codemirror_mode": {
    "name": "ipython",
    "version": 3
   },
   "file_extension": ".py",
   "mimetype": "text/x-python",
   "name": "python",
   "nbconvert_exporter": "python",
   "pygments_lexer": "ipython3",
   "version": "3.10.6"
  }
 },
 "nbformat": 4,
 "nbformat_minor": 5
}
